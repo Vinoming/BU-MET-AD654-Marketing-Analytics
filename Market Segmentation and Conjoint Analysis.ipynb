{
 "cells": [
  {
   "cell_type": "markdown",
   "metadata": {},
   "source": [
    "## Assignment 2: Market Segmentation, Conjoint Analysis, and a Dashboard"
   ]
  },
  {
   "cell_type": "code",
   "execution_count": 3,
   "metadata": {},
   "outputs": [
    {
     "name": "stdout",
     "output_type": "stream",
     "text": [
      "/Users/shimonyagrawal/Desktop\n"
     ]
    }
   ],
   "source": [
    "%cd /Users/shimonyagrawal/Desktop\n",
    "import pandas as pd\n",
    "import matplotlib.pyplot as plt\n",
    "import seaborn as sns\n",
    "import numpy as np"
   ]
  },
  {
   "cell_type": "markdown",
   "metadata": {},
   "source": [
    "## Part 1: Segmentation"
   ]
  },
  {
   "cell_type": "code",
   "execution_count": 4,
   "metadata": {},
   "outputs": [
    {
     "ename": "FileNotFoundError",
     "evalue": "[Errno 2] File golf.csv does not exist: 'golf.csv'",
     "output_type": "error",
     "traceback": [
      "\u001b[0;31m---------------------------------------------------------------------------\u001b[0m",
      "\u001b[0;31mFileNotFoundError\u001b[0m                         Traceback (most recent call last)",
      "\u001b[0;32m<ipython-input-4-a1053d4af57d>\u001b[0m in \u001b[0;36m<module>\u001b[0;34m\u001b[0m\n\u001b[0;32m----> 1\u001b[0;31m \u001b[0mgolf\u001b[0m \u001b[0;34m=\u001b[0m \u001b[0mpd\u001b[0m\u001b[0;34m.\u001b[0m\u001b[0mread_csv\u001b[0m\u001b[0;34m(\u001b[0m\u001b[0;34m'golf.csv'\u001b[0m\u001b[0;34m)\u001b[0m\u001b[0;34m\u001b[0m\u001b[0;34m\u001b[0m\u001b[0m\n\u001b[0m",
      "\u001b[0;32m~/opt/anaconda3/lib/python3.7/site-packages/pandas/io/parsers.py\u001b[0m in \u001b[0;36mparser_f\u001b[0;34m(filepath_or_buffer, sep, delimiter, header, names, index_col, usecols, squeeze, prefix, mangle_dupe_cols, dtype, engine, converters, true_values, false_values, skipinitialspace, skiprows, skipfooter, nrows, na_values, keep_default_na, na_filter, verbose, skip_blank_lines, parse_dates, infer_datetime_format, keep_date_col, date_parser, dayfirst, cache_dates, iterator, chunksize, compression, thousands, decimal, lineterminator, quotechar, quoting, doublequote, escapechar, comment, encoding, dialect, error_bad_lines, warn_bad_lines, delim_whitespace, low_memory, memory_map, float_precision)\u001b[0m\n\u001b[1;32m    674\u001b[0m         )\n\u001b[1;32m    675\u001b[0m \u001b[0;34m\u001b[0m\u001b[0m\n\u001b[0;32m--> 676\u001b[0;31m         \u001b[0;32mreturn\u001b[0m \u001b[0m_read\u001b[0m\u001b[0;34m(\u001b[0m\u001b[0mfilepath_or_buffer\u001b[0m\u001b[0;34m,\u001b[0m \u001b[0mkwds\u001b[0m\u001b[0;34m)\u001b[0m\u001b[0;34m\u001b[0m\u001b[0;34m\u001b[0m\u001b[0m\n\u001b[0m\u001b[1;32m    677\u001b[0m \u001b[0;34m\u001b[0m\u001b[0m\n\u001b[1;32m    678\u001b[0m     \u001b[0mparser_f\u001b[0m\u001b[0;34m.\u001b[0m\u001b[0m__name__\u001b[0m \u001b[0;34m=\u001b[0m \u001b[0mname\u001b[0m\u001b[0;34m\u001b[0m\u001b[0;34m\u001b[0m\u001b[0m\n",
      "\u001b[0;32m~/opt/anaconda3/lib/python3.7/site-packages/pandas/io/parsers.py\u001b[0m in \u001b[0;36m_read\u001b[0;34m(filepath_or_buffer, kwds)\u001b[0m\n\u001b[1;32m    446\u001b[0m \u001b[0;34m\u001b[0m\u001b[0m\n\u001b[1;32m    447\u001b[0m     \u001b[0;31m# Create the parser.\u001b[0m\u001b[0;34m\u001b[0m\u001b[0;34m\u001b[0m\u001b[0;34m\u001b[0m\u001b[0m\n\u001b[0;32m--> 448\u001b[0;31m     \u001b[0mparser\u001b[0m \u001b[0;34m=\u001b[0m \u001b[0mTextFileReader\u001b[0m\u001b[0;34m(\u001b[0m\u001b[0mfp_or_buf\u001b[0m\u001b[0;34m,\u001b[0m \u001b[0;34m**\u001b[0m\u001b[0mkwds\u001b[0m\u001b[0;34m)\u001b[0m\u001b[0;34m\u001b[0m\u001b[0;34m\u001b[0m\u001b[0m\n\u001b[0m\u001b[1;32m    449\u001b[0m \u001b[0;34m\u001b[0m\u001b[0m\n\u001b[1;32m    450\u001b[0m     \u001b[0;32mif\u001b[0m \u001b[0mchunksize\u001b[0m \u001b[0;32mor\u001b[0m \u001b[0miterator\u001b[0m\u001b[0;34m:\u001b[0m\u001b[0;34m\u001b[0m\u001b[0;34m\u001b[0m\u001b[0m\n",
      "\u001b[0;32m~/opt/anaconda3/lib/python3.7/site-packages/pandas/io/parsers.py\u001b[0m in \u001b[0;36m__init__\u001b[0;34m(self, f, engine, **kwds)\u001b[0m\n\u001b[1;32m    878\u001b[0m             \u001b[0mself\u001b[0m\u001b[0;34m.\u001b[0m\u001b[0moptions\u001b[0m\u001b[0;34m[\u001b[0m\u001b[0;34m\"has_index_names\"\u001b[0m\u001b[0;34m]\u001b[0m \u001b[0;34m=\u001b[0m \u001b[0mkwds\u001b[0m\u001b[0;34m[\u001b[0m\u001b[0;34m\"has_index_names\"\u001b[0m\u001b[0;34m]\u001b[0m\u001b[0;34m\u001b[0m\u001b[0;34m\u001b[0m\u001b[0m\n\u001b[1;32m    879\u001b[0m \u001b[0;34m\u001b[0m\u001b[0m\n\u001b[0;32m--> 880\u001b[0;31m         \u001b[0mself\u001b[0m\u001b[0;34m.\u001b[0m\u001b[0m_make_engine\u001b[0m\u001b[0;34m(\u001b[0m\u001b[0mself\u001b[0m\u001b[0;34m.\u001b[0m\u001b[0mengine\u001b[0m\u001b[0;34m)\u001b[0m\u001b[0;34m\u001b[0m\u001b[0;34m\u001b[0m\u001b[0m\n\u001b[0m\u001b[1;32m    881\u001b[0m \u001b[0;34m\u001b[0m\u001b[0m\n\u001b[1;32m    882\u001b[0m     \u001b[0;32mdef\u001b[0m \u001b[0mclose\u001b[0m\u001b[0;34m(\u001b[0m\u001b[0mself\u001b[0m\u001b[0;34m)\u001b[0m\u001b[0;34m:\u001b[0m\u001b[0;34m\u001b[0m\u001b[0;34m\u001b[0m\u001b[0m\n",
      "\u001b[0;32m~/opt/anaconda3/lib/python3.7/site-packages/pandas/io/parsers.py\u001b[0m in \u001b[0;36m_make_engine\u001b[0;34m(self, engine)\u001b[0m\n\u001b[1;32m   1112\u001b[0m     \u001b[0;32mdef\u001b[0m \u001b[0m_make_engine\u001b[0m\u001b[0;34m(\u001b[0m\u001b[0mself\u001b[0m\u001b[0;34m,\u001b[0m \u001b[0mengine\u001b[0m\u001b[0;34m=\u001b[0m\u001b[0;34m\"c\"\u001b[0m\u001b[0;34m)\u001b[0m\u001b[0;34m:\u001b[0m\u001b[0;34m\u001b[0m\u001b[0;34m\u001b[0m\u001b[0m\n\u001b[1;32m   1113\u001b[0m         \u001b[0;32mif\u001b[0m \u001b[0mengine\u001b[0m \u001b[0;34m==\u001b[0m \u001b[0;34m\"c\"\u001b[0m\u001b[0;34m:\u001b[0m\u001b[0;34m\u001b[0m\u001b[0;34m\u001b[0m\u001b[0m\n\u001b[0;32m-> 1114\u001b[0;31m             \u001b[0mself\u001b[0m\u001b[0;34m.\u001b[0m\u001b[0m_engine\u001b[0m \u001b[0;34m=\u001b[0m \u001b[0mCParserWrapper\u001b[0m\u001b[0;34m(\u001b[0m\u001b[0mself\u001b[0m\u001b[0;34m.\u001b[0m\u001b[0mf\u001b[0m\u001b[0;34m,\u001b[0m \u001b[0;34m**\u001b[0m\u001b[0mself\u001b[0m\u001b[0;34m.\u001b[0m\u001b[0moptions\u001b[0m\u001b[0;34m)\u001b[0m\u001b[0;34m\u001b[0m\u001b[0;34m\u001b[0m\u001b[0m\n\u001b[0m\u001b[1;32m   1115\u001b[0m         \u001b[0;32melse\u001b[0m\u001b[0;34m:\u001b[0m\u001b[0;34m\u001b[0m\u001b[0;34m\u001b[0m\u001b[0m\n\u001b[1;32m   1116\u001b[0m             \u001b[0;32mif\u001b[0m \u001b[0mengine\u001b[0m \u001b[0;34m==\u001b[0m \u001b[0;34m\"python\"\u001b[0m\u001b[0;34m:\u001b[0m\u001b[0;34m\u001b[0m\u001b[0;34m\u001b[0m\u001b[0m\n",
      "\u001b[0;32m~/opt/anaconda3/lib/python3.7/site-packages/pandas/io/parsers.py\u001b[0m in \u001b[0;36m__init__\u001b[0;34m(self, src, **kwds)\u001b[0m\n\u001b[1;32m   1889\u001b[0m         \u001b[0mkwds\u001b[0m\u001b[0;34m[\u001b[0m\u001b[0;34m\"usecols\"\u001b[0m\u001b[0;34m]\u001b[0m \u001b[0;34m=\u001b[0m \u001b[0mself\u001b[0m\u001b[0;34m.\u001b[0m\u001b[0musecols\u001b[0m\u001b[0;34m\u001b[0m\u001b[0;34m\u001b[0m\u001b[0m\n\u001b[1;32m   1890\u001b[0m \u001b[0;34m\u001b[0m\u001b[0m\n\u001b[0;32m-> 1891\u001b[0;31m         \u001b[0mself\u001b[0m\u001b[0;34m.\u001b[0m\u001b[0m_reader\u001b[0m \u001b[0;34m=\u001b[0m \u001b[0mparsers\u001b[0m\u001b[0;34m.\u001b[0m\u001b[0mTextReader\u001b[0m\u001b[0;34m(\u001b[0m\u001b[0msrc\u001b[0m\u001b[0;34m,\u001b[0m \u001b[0;34m**\u001b[0m\u001b[0mkwds\u001b[0m\u001b[0;34m)\u001b[0m\u001b[0;34m\u001b[0m\u001b[0;34m\u001b[0m\u001b[0m\n\u001b[0m\u001b[1;32m   1892\u001b[0m         \u001b[0mself\u001b[0m\u001b[0;34m.\u001b[0m\u001b[0munnamed_cols\u001b[0m \u001b[0;34m=\u001b[0m \u001b[0mself\u001b[0m\u001b[0;34m.\u001b[0m\u001b[0m_reader\u001b[0m\u001b[0;34m.\u001b[0m\u001b[0munnamed_cols\u001b[0m\u001b[0;34m\u001b[0m\u001b[0;34m\u001b[0m\u001b[0m\n\u001b[1;32m   1893\u001b[0m \u001b[0;34m\u001b[0m\u001b[0m\n",
      "\u001b[0;32mpandas/_libs/parsers.pyx\u001b[0m in \u001b[0;36mpandas._libs.parsers.TextReader.__cinit__\u001b[0;34m()\u001b[0m\n",
      "\u001b[0;32mpandas/_libs/parsers.pyx\u001b[0m in \u001b[0;36mpandas._libs.parsers.TextReader._setup_parser_source\u001b[0;34m()\u001b[0m\n",
      "\u001b[0;31mFileNotFoundError\u001b[0m: [Errno 2] File golf.csv does not exist: 'golf.csv'"
     ]
    }
   ],
   "source": [
    "golf = pd.read_csv('golf.csv')"
   ]
  },
  {
   "cell_type": "code",
   "execution_count": 1,
   "metadata": {},
   "outputs": [
    {
     "ename": "NameError",
     "evalue": "name 'golf' is not defined",
     "output_type": "error",
     "traceback": [
      "\u001b[0;31m---------------------------------------------------------------------------\u001b[0m",
      "\u001b[0;31mNameError\u001b[0m                                 Traceback (most recent call last)",
      "\u001b[0;32m<ipython-input-1-55cd537a36cf>\u001b[0m in \u001b[0;36m<module>\u001b[0;34m\u001b[0m\n\u001b[0;32m----> 1\u001b[0;31m \u001b[0mgolf\u001b[0m\u001b[0;34m.\u001b[0m\u001b[0mtop\u001b[0m\u001b[0;34m(\u001b[0m\u001b[0;36m10\u001b[0m\u001b[0;34m)\u001b[0m\u001b[0;34m\u001b[0m\u001b[0;34m\u001b[0m\u001b[0m\n\u001b[0m",
      "\u001b[0;31mNameError\u001b[0m: name 'golf' is not defined"
     ]
    }
   ],
   "source": [
    "golf.top(10)"
   ]
  },
  {
   "cell_type": "markdown",
   "metadata": {},
   "source": [
    "#### A. Drop the courseID variable.\n",
    "#### a. Why will courseID not be relevant in a clustering model?"
   ]
  },
  {
   "cell_type": "code",
   "execution_count": 4,
   "metadata": {},
   "outputs": [
    {
     "data": {
      "text/html": [
       "<div>\n",
       "<style scoped>\n",
       "    .dataframe tbody tr th:only-of-type {\n",
       "        vertical-align: middle;\n",
       "    }\n",
       "\n",
       "    .dataframe tbody tr th {\n",
       "        vertical-align: top;\n",
       "    }\n",
       "\n",
       "    .dataframe thead th {\n",
       "        text-align: right;\n",
       "    }\n",
       "</style>\n",
       "<table border=\"1\" class=\"dataframe\">\n",
       "  <thead>\n",
       "    <tr style=\"text-align: right;\">\n",
       "      <th></th>\n",
       "      <th>elevation</th>\n",
       "      <th>square_feet</th>\n",
       "      <th>est_playing_time</th>\n",
       "      <th>land_obstacles</th>\n",
       "      <th>water_obstacles</th>\n",
       "      <th>tunnel_shots</th>\n",
       "      <th>est_construction_cost</th>\n",
       "      <th>est_maintenance_cost</th>\n",
       "      <th>average_hole_length</th>\n",
       "      <th>average_hole_width</th>\n",
       "    </tr>\n",
       "  </thead>\n",
       "  <tbody>\n",
       "    <tr>\n",
       "      <th>0</th>\n",
       "      <td>11.64</td>\n",
       "      <td>21037.18</td>\n",
       "      <td>43.35</td>\n",
       "      <td>10.0</td>\n",
       "      <td>3.0</td>\n",
       "      <td>3.0</td>\n",
       "      <td>103082.72</td>\n",
       "      <td>7261.22</td>\n",
       "      <td>18.99</td>\n",
       "      <td>3.90</td>\n",
       "    </tr>\n",
       "    <tr>\n",
       "      <th>1</th>\n",
       "      <td>6.58</td>\n",
       "      <td>23646.44</td>\n",
       "      <td>42.30</td>\n",
       "      <td>10.0</td>\n",
       "      <td>4.0</td>\n",
       "      <td>3.0</td>\n",
       "      <td>91637.93</td>\n",
       "      <td>6553.91</td>\n",
       "      <td>21.35</td>\n",
       "      <td>2.49</td>\n",
       "    </tr>\n",
       "    <tr>\n",
       "      <th>2</th>\n",
       "      <td>11.08</td>\n",
       "      <td>20012.28</td>\n",
       "      <td>41.43</td>\n",
       "      <td>9.0</td>\n",
       "      <td>3.0</td>\n",
       "      <td>3.0</td>\n",
       "      <td>107049.47</td>\n",
       "      <td>5847.06</td>\n",
       "      <td>19.09</td>\n",
       "      <td>2.63</td>\n",
       "    </tr>\n",
       "    <tr>\n",
       "      <th>3</th>\n",
       "      <td>9.91</td>\n",
       "      <td>20761.90</td>\n",
       "      <td>46.04</td>\n",
       "      <td>10.0</td>\n",
       "      <td>4.0</td>\n",
       "      <td>3.0</td>\n",
       "      <td>101799.55</td>\n",
       "      <td>8876.01</td>\n",
       "      <td>19.36</td>\n",
       "      <td>3.51</td>\n",
       "    </tr>\n",
       "    <tr>\n",
       "      <th>4</th>\n",
       "      <td>11.99</td>\n",
       "      <td>19818.75</td>\n",
       "      <td>44.82</td>\n",
       "      <td>7.0</td>\n",
       "      <td>6.0</td>\n",
       "      <td>4.0</td>\n",
       "      <td>94731.84</td>\n",
       "      <td>8445.70</td>\n",
       "      <td>16.81</td>\n",
       "      <td>2.67</td>\n",
       "    </tr>\n",
       "    <tr>\n",
       "      <th>...</th>\n",
       "      <td>...</td>\n",
       "      <td>...</td>\n",
       "      <td>...</td>\n",
       "      <td>...</td>\n",
       "      <td>...</td>\n",
       "      <td>...</td>\n",
       "      <td>...</td>\n",
       "      <td>...</td>\n",
       "      <td>...</td>\n",
       "      <td>...</td>\n",
       "    </tr>\n",
       "    <tr>\n",
       "      <th>245</th>\n",
       "      <td>10.45</td>\n",
       "      <td>23963.73</td>\n",
       "      <td>51.46</td>\n",
       "      <td>8.0</td>\n",
       "      <td>4.0</td>\n",
       "      <td>3.0</td>\n",
       "      <td>99027.52</td>\n",
       "      <td>9333.81</td>\n",
       "      <td>20.39</td>\n",
       "      <td>2.63</td>\n",
       "    </tr>\n",
       "    <tr>\n",
       "      <th>246</th>\n",
       "      <td>13.77</td>\n",
       "      <td>23337.77</td>\n",
       "      <td>51.39</td>\n",
       "      <td>9.0</td>\n",
       "      <td>3.0</td>\n",
       "      <td>4.0</td>\n",
       "      <td>61096.93</td>\n",
       "      <td>7864.50</td>\n",
       "      <td>17.06</td>\n",
       "      <td>2.93</td>\n",
       "    </tr>\n",
       "    <tr>\n",
       "      <th>247</th>\n",
       "      <td>7.01</td>\n",
       "      <td>23951.83</td>\n",
       "      <td>41.96</td>\n",
       "      <td>7.0</td>\n",
       "      <td>3.0</td>\n",
       "      <td>2.0</td>\n",
       "      <td>106438.63</td>\n",
       "      <td>2745.81</td>\n",
       "      <td>18.13</td>\n",
       "      <td>2.53</td>\n",
       "    </tr>\n",
       "    <tr>\n",
       "      <th>248</th>\n",
       "      <td>8.70</td>\n",
       "      <td>23850.69</td>\n",
       "      <td>45.10</td>\n",
       "      <td>6.0</td>\n",
       "      <td>3.0</td>\n",
       "      <td>3.0</td>\n",
       "      <td>98163.76</td>\n",
       "      <td>7955.81</td>\n",
       "      <td>20.32</td>\n",
       "      <td>3.79</td>\n",
       "    </tr>\n",
       "    <tr>\n",
       "      <th>249</th>\n",
       "      <td>10.26</td>\n",
       "      <td>26820.41</td>\n",
       "      <td>47.58</td>\n",
       "      <td>8.0</td>\n",
       "      <td>5.0</td>\n",
       "      <td>3.0</td>\n",
       "      <td>92221.42</td>\n",
       "      <td>10027.75</td>\n",
       "      <td>20.28</td>\n",
       "      <td>2.66</td>\n",
       "    </tr>\n",
       "  </tbody>\n",
       "</table>\n",
       "<p>250 rows × 10 columns</p>\n",
       "</div>"
      ],
      "text/plain": [
       "     elevation  square_feet  est_playing_time  land_obstacles  \\\n",
       "0        11.64     21037.18             43.35            10.0   \n",
       "1         6.58     23646.44             42.30            10.0   \n",
       "2        11.08     20012.28             41.43             9.0   \n",
       "3         9.91     20761.90             46.04            10.0   \n",
       "4        11.99     19818.75             44.82             7.0   \n",
       "..         ...          ...               ...             ...   \n",
       "245      10.45     23963.73             51.46             8.0   \n",
       "246      13.77     23337.77             51.39             9.0   \n",
       "247       7.01     23951.83             41.96             7.0   \n",
       "248       8.70     23850.69             45.10             6.0   \n",
       "249      10.26     26820.41             47.58             8.0   \n",
       "\n",
       "     water_obstacles  tunnel_shots  est_construction_cost  \\\n",
       "0                3.0           3.0              103082.72   \n",
       "1                4.0           3.0               91637.93   \n",
       "2                3.0           3.0              107049.47   \n",
       "3                4.0           3.0              101799.55   \n",
       "4                6.0           4.0               94731.84   \n",
       "..               ...           ...                    ...   \n",
       "245              4.0           3.0               99027.52   \n",
       "246              3.0           4.0               61096.93   \n",
       "247              3.0           2.0              106438.63   \n",
       "248              3.0           3.0               98163.76   \n",
       "249              5.0           3.0               92221.42   \n",
       "\n",
       "     est_maintenance_cost  average_hole_length  average_hole_width  \n",
       "0                 7261.22                18.99                3.90  \n",
       "1                 6553.91                21.35                2.49  \n",
       "2                 5847.06                19.09                2.63  \n",
       "3                 8876.01                19.36                3.51  \n",
       "4                 8445.70                16.81                2.67  \n",
       "..                    ...                  ...                 ...  \n",
       "245               9333.81                20.39                2.63  \n",
       "246               7864.50                17.06                2.93  \n",
       "247               2745.81                18.13                2.53  \n",
       "248               7955.81                20.32                3.79  \n",
       "249              10027.75                20.28                2.66  \n",
       "\n",
       "[250 rows x 10 columns]"
      ]
     },
     "execution_count": 4,
     "metadata": {},
     "output_type": "execute_result"
    }
   ],
   "source": [
    "golf = golf.drop('courseID', 1)\n",
    "golf"
   ]
  },
  {
   "cell_type": "markdown",
   "metadata": {},
   "source": [
    "The course ID is not relevant in clustering just number indicating unique identifier. This variable will not yeild any results in the analysis since it's just a number depicting each response by golf course vendors. Here, it does not have any significant value required for analysis. "
   ]
  },
  {
   "cell_type": "markdown",
   "metadata": {},
   "source": [
    "#### B. Call the describe() function on your dataset.\n",
    "#### a. How does this function help you to gain an overall sense of the columns and values in this (or any other) dataset? Why is this valuable for any analyst who will use a dataset to build a model?"
   ]
  },
  {
   "cell_type": "code",
   "execution_count": 5,
   "metadata": {},
   "outputs": [
    {
     "data": {
      "text/html": [
       "<div>\n",
       "<style scoped>\n",
       "    .dataframe tbody tr th:only-of-type {\n",
       "        vertical-align: middle;\n",
       "    }\n",
       "\n",
       "    .dataframe tbody tr th {\n",
       "        vertical-align: top;\n",
       "    }\n",
       "\n",
       "    .dataframe thead th {\n",
       "        text-align: right;\n",
       "    }\n",
       "</style>\n",
       "<table border=\"1\" class=\"dataframe\">\n",
       "  <thead>\n",
       "    <tr style=\"text-align: right;\">\n",
       "      <th></th>\n",
       "      <th>elevation</th>\n",
       "      <th>square_feet</th>\n",
       "      <th>est_playing_time</th>\n",
       "      <th>land_obstacles</th>\n",
       "      <th>water_obstacles</th>\n",
       "      <th>tunnel_shots</th>\n",
       "      <th>est_construction_cost</th>\n",
       "      <th>est_maintenance_cost</th>\n",
       "      <th>average_hole_length</th>\n",
       "      <th>average_hole_width</th>\n",
       "    </tr>\n",
       "  </thead>\n",
       "  <tbody>\n",
       "    <tr>\n",
       "      <th>count</th>\n",
       "      <td>250.00000</td>\n",
       "      <td>250.000000</td>\n",
       "      <td>250.000000</td>\n",
       "      <td>250.000</td>\n",
       "      <td>250.000000</td>\n",
       "      <td>250.000000</td>\n",
       "      <td>250.000000</td>\n",
       "      <td>250.000000</td>\n",
       "      <td>250.000000</td>\n",
       "      <td>250.000000</td>\n",
       "    </tr>\n",
       "    <tr>\n",
       "      <th>mean</th>\n",
       "      <td>10.90348</td>\n",
       "      <td>22052.677600</td>\n",
       "      <td>44.916120</td>\n",
       "      <td>7.840</td>\n",
       "      <td>3.968000</td>\n",
       "      <td>2.944000</td>\n",
       "      <td>94956.160200</td>\n",
       "      <td>7779.288160</td>\n",
       "      <td>19.757280</td>\n",
       "      <td>2.964680</td>\n",
       "    </tr>\n",
       "    <tr>\n",
       "      <th>std</th>\n",
       "      <td>2.52390</td>\n",
       "      <td>2708.177478</td>\n",
       "      <td>5.001146</td>\n",
       "      <td>1.544</td>\n",
       "      <td>0.775488</td>\n",
       "      <td>0.598579</td>\n",
       "      <td>11656.524492</td>\n",
       "      <td>1990.536582</td>\n",
       "      <td>1.750693</td>\n",
       "      <td>0.459777</td>\n",
       "    </tr>\n",
       "    <tr>\n",
       "      <th>min</th>\n",
       "      <td>2.92000</td>\n",
       "      <td>14357.480000</td>\n",
       "      <td>31.630000</td>\n",
       "      <td>3.000</td>\n",
       "      <td>2.000000</td>\n",
       "      <td>2.000000</td>\n",
       "      <td>61096.930000</td>\n",
       "      <td>2682.460000</td>\n",
       "      <td>14.690000</td>\n",
       "      <td>1.640000</td>\n",
       "    </tr>\n",
       "    <tr>\n",
       "      <th>25%</th>\n",
       "      <td>9.45250</td>\n",
       "      <td>20162.532500</td>\n",
       "      <td>41.430000</td>\n",
       "      <td>7.000</td>\n",
       "      <td>3.000000</td>\n",
       "      <td>3.000000</td>\n",
       "      <td>86997.525000</td>\n",
       "      <td>6527.242500</td>\n",
       "      <td>18.560000</td>\n",
       "      <td>2.632500</td>\n",
       "    </tr>\n",
       "    <tr>\n",
       "      <th>50%</th>\n",
       "      <td>11.08500</td>\n",
       "      <td>22030.715000</td>\n",
       "      <td>44.780000</td>\n",
       "      <td>8.000</td>\n",
       "      <td>4.000000</td>\n",
       "      <td>3.000000</td>\n",
       "      <td>94727.880000</td>\n",
       "      <td>7760.000000</td>\n",
       "      <td>19.780000</td>\n",
       "      <td>2.990000</td>\n",
       "    </tr>\n",
       "    <tr>\n",
       "      <th>75%</th>\n",
       "      <td>12.70500</td>\n",
       "      <td>23974.867500</td>\n",
       "      <td>48.157500</td>\n",
       "      <td>9.000</td>\n",
       "      <td>4.000000</td>\n",
       "      <td>3.000000</td>\n",
       "      <td>102375.640000</td>\n",
       "      <td>8935.887500</td>\n",
       "      <td>20.925000</td>\n",
       "      <td>3.300000</td>\n",
       "    </tr>\n",
       "    <tr>\n",
       "      <th>max</th>\n",
       "      <td>17.77000</td>\n",
       "      <td>29712.520000</td>\n",
       "      <td>58.020000</td>\n",
       "      <td>14.000</td>\n",
       "      <td>6.000000</td>\n",
       "      <td>4.000000</td>\n",
       "      <td>126247.720000</td>\n",
       "      <td>12589.800000</td>\n",
       "      <td>25.490000</td>\n",
       "      <td>4.210000</td>\n",
       "    </tr>\n",
       "  </tbody>\n",
       "</table>\n",
       "</div>"
      ],
      "text/plain": [
       "       elevation   square_feet  est_playing_time  land_obstacles  \\\n",
       "count  250.00000    250.000000        250.000000         250.000   \n",
       "mean    10.90348  22052.677600         44.916120           7.840   \n",
       "std      2.52390   2708.177478          5.001146           1.544   \n",
       "min      2.92000  14357.480000         31.630000           3.000   \n",
       "25%      9.45250  20162.532500         41.430000           7.000   \n",
       "50%     11.08500  22030.715000         44.780000           8.000   \n",
       "75%     12.70500  23974.867500         48.157500           9.000   \n",
       "max     17.77000  29712.520000         58.020000          14.000   \n",
       "\n",
       "       water_obstacles  tunnel_shots  est_construction_cost  \\\n",
       "count       250.000000    250.000000             250.000000   \n",
       "mean          3.968000      2.944000           94956.160200   \n",
       "std           0.775488      0.598579           11656.524492   \n",
       "min           2.000000      2.000000           61096.930000   \n",
       "25%           3.000000      3.000000           86997.525000   \n",
       "50%           4.000000      3.000000           94727.880000   \n",
       "75%           4.000000      3.000000          102375.640000   \n",
       "max           6.000000      4.000000          126247.720000   \n",
       "\n",
       "       est_maintenance_cost  average_hole_length  average_hole_width  \n",
       "count            250.000000           250.000000          250.000000  \n",
       "mean            7779.288160            19.757280            2.964680  \n",
       "std             1990.536582             1.750693            0.459777  \n",
       "min             2682.460000            14.690000            1.640000  \n",
       "25%             6527.242500            18.560000            2.632500  \n",
       "50%             7760.000000            19.780000            2.990000  \n",
       "75%             8935.887500            20.925000            3.300000  \n",
       "max            12589.800000            25.490000            4.210000  "
      ]
     },
     "execution_count": 5,
     "metadata": {},
     "output_type": "execute_result"
    }
   ],
   "source": [
    "golf.describe()"
   ]
  },
  {
   "cell_type": "markdown",
   "metadata": {},
   "source": [
    "The describe function gives the descriptive statistics of the variables which summarises the distribution of the variables in the datastet. Summary statistics give a quantitative analysis of the data which can be useful in simplifying large amount of data. Using the summary statistics, the analyst can identify outliers as well as where the data is skewed. "
   ]
  },
  {
   "cell_type": "markdown",
   "metadata": {},
   "source": [
    "#### C. Data scaling.\n",
    "#### a. Do your variables need to be standardized? Why or why not?\n",
    "\n",
    "The variables need to standardized since they are measured on different scales. For instance, square_feet is measured in feet but the est_playing_time is measured in minutes. Likewise, est_construction_cost is measured in dollars. All variables are hence, measured in different scales. Using the standardisation, they can be compared easily. \n",
    "\n",
    "#### b. If your data requires standardization, use Python to convert your values into z-scores, and store the normalized data in a new dataframe. If not, proceed to step C."
   ]
  },
  {
   "cell_type": "code",
   "execution_count": 43,
   "metadata": {},
   "outputs": [
    {
     "name": "stdout",
     "output_type": "stream",
     "text": [
      "       elevation  square_feet  est_playing_time  land_obstacles  \\\n",
      "count     250.00       250.00            250.00          250.00   \n",
      "mean       -0.00        -0.00              0.00            0.00   \n",
      "std         1.00         1.00              1.00            1.00   \n",
      "min        -3.17        -2.85             -2.66           -3.14   \n",
      "25%        -0.58        -0.70             -0.70           -0.55   \n",
      "50%         0.07        -0.01             -0.03            0.10   \n",
      "75%         0.72         0.71              0.65            0.75   \n",
      "max         2.73         2.83              2.63            4.00   \n",
      "\n",
      "       water_obstacles  tunnel_shots  est_construction_cost  \\\n",
      "count           250.00        250.00                 250.00   \n",
      "mean              0.00          0.00                   0.00   \n",
      "std               1.00          1.00                   1.00   \n",
      "min              -2.54         -1.58                  -2.91   \n",
      "25%              -1.25          0.09                  -0.68   \n",
      "50%               0.04          0.09                  -0.02   \n",
      "75%               0.04          0.09                   0.64   \n",
      "max               2.63          1.77                   2.69   \n",
      "\n",
      "       est_maintenance_cost  average_hole_length  average_hole_width  \n",
      "count                250.00               250.00              250.00  \n",
      "mean                  -0.00                 0.00               -0.00  \n",
      "std                    1.00                 1.00                1.00  \n",
      "min                   -2.57                -2.90               -2.89  \n",
      "25%                   -0.63                -0.69               -0.72  \n",
      "50%                   -0.01                 0.01                0.06  \n",
      "75%                    0.58                 0.67                0.73  \n",
      "max                    2.42                 3.28                2.71  \n"
     ]
    }
   ],
   "source": [
    "from sklearn.preprocessing import StandardScaler \n",
    "\n",
    "data_scaling = StandardScaler()\n",
    "data_scaling.fit(golf)\n",
    "\n",
    "golf_normalize = data_scaling.transform(golf)\n",
    "golf_normalize = pd.DataFrame(data = golf_normalize, index = golf.index , columns = golf.columns)\n",
    "print(golf_normalize.describe().round(2))"
   ]
  },
  {
   "cell_type": "markdown",
   "metadata": {},
   "source": [
    "#### D. Elbow chart.\n",
    "#### a. Build an elbow chart to help give you a sense of how you might build your model."
   ]
  },
  {
   "cell_type": "code",
   "execution_count": 44,
   "metadata": {},
   "outputs": [
    {
     "data": {
      "image/png": "[encoded data removed]",
      "text/plain": [
       "<Figure size 1080x432 with 1 Axes>"
      ]
     },
     "metadata": {
      "needs_background": "light"
     },
     "output_type": "display_data"
    }
   ],
   "source": [
    "from sklearn.cluster import KMeans\n",
    "\n",
    "sse = {}\n",
    "for k in range(1, 10):\n",
    "    kmeans = KMeans(n_clusters=k, random_state=654)\n",
    "    kmeans.fit(golf)\n",
    "    sse[k] = kmeans.inertia_\n",
    "    \n",
    "    \n",
    "plt.figure(figsize=(15,6))\n",
    "plt.title('The Elbow Method')\n",
    "plt.xlabel('k')\n",
    "plt.ylabel('SSE')\n",
    "sns.pointplot(x=list(sse.keys()), y=list(sse.values()));"
   ]
  },
  {
   "cell_type": "markdown",
   "metadata": {},
   "source": [
    "#### E. How many clusters will you use for your k-means model? \n",
    "\n",
    "Based on the elbow method, my optimal clusters are found to be 3 clusters. I will be dividing my clusters based on the square feet, estimated construction cost and estimated maintenance cost. "
   ]
  },
  {
   "cell_type": "markdown",
   "metadata": {},
   "source": [
    "#### F. Build a k-means model with your desired number of clusters."
   ]
  },
  {
   "cell_type": "code",
   "execution_count": 25,
   "metadata": {},
   "outputs": [],
   "source": [
    "from sklearn.cluster import KMeans\n",
    "\n",
    "kmeans_model = KMeans(n_clusters = 3, random_state = 500)\n",
    "kmeans_model.fit(golf_normalize)\n",
    "cluster_labels = kmeans_model.labels_"
   ]
  },
  {
   "cell_type": "code",
   "execution_count": 53,
   "metadata": {
    "scrolled": true
   },
   "outputs": [
    {
     "data": {
      "text/html": [
       "<div>\n",
       "<style scoped>\n",
       "    .dataframe tbody tr th:only-of-type {\n",
       "        vertical-align: middle;\n",
       "    }\n",
       "\n",
       "    .dataframe tbody tr th {\n",
       "        vertical-align: top;\n",
       "    }\n",
       "\n",
       "    .dataframe thead th {\n",
       "        text-align: right;\n",
       "    }\n",
       "</style>\n",
       "<table border=\"1\" class=\"dataframe\">\n",
       "  <thead>\n",
       "    <tr style=\"text-align: right;\">\n",
       "      <th></th>\n",
       "      <th>square_feet</th>\n",
       "      <th>est_construction_cost</th>\n",
       "      <th>est_maintenance_cost</th>\n",
       "    </tr>\n",
       "    <tr>\n",
       "      <th>Cluster</th>\n",
       "      <th></th>\n",
       "      <th></th>\n",
       "      <th></th>\n",
       "    </tr>\n",
       "  </thead>\n",
       "  <tbody>\n",
       "    <tr>\n",
       "      <th>0</th>\n",
       "      <td>24754.41</td>\n",
       "      <td>84712.52</td>\n",
       "      <td>7551.36</td>\n",
       "    </tr>\n",
       "    <tr>\n",
       "      <th>1</th>\n",
       "      <td>19985.26</td>\n",
       "      <td>105199.56</td>\n",
       "      <td>7382.96</td>\n",
       "    </tr>\n",
       "    <tr>\n",
       "      <th>2</th>\n",
       "      <td>22149.62</td>\n",
       "      <td>92833.78</td>\n",
       "      <td>8187.60</td>\n",
       "    </tr>\n",
       "  </tbody>\n",
       "</table>\n",
       "</div>"
      ],
      "text/plain": [
       "         square_feet  est_construction_cost  est_maintenance_cost\n",
       "Cluster                                                          \n",
       "0           24754.41               84712.52               7551.36\n",
       "1           19985.26              105199.56               7382.96\n",
       "2           22149.62               92833.78               8187.60"
      ]
     },
     "execution_count": 53,
     "metadata": {},
     "output_type": "execute_result"
    }
   ],
   "source": [
    "golf_cluster = golf.assign(Cluster = cluster_labels)\n",
    "grouped = golf_cluster.groupby(['Cluster'])\n",
    "\n",
    "grouped.agg({ \n",
    "'square_feet': 'mean',\n",
    "'est_construction_cost' : 'mean',\n",
    "'est_maintenance_cost' : 'mean'}).round(2)"
   ]
  },
  {
   "cell_type": "code",
   "execution_count": 48,
   "metadata": {},
   "outputs": [
    {
     "data": {
      "text/html": [
       "<div>\n",
       "<style scoped>\n",
       "    .dataframe tbody tr th:only-of-type {\n",
       "        vertical-align: middle;\n",
       "    }\n",
       "\n",
       "    .dataframe tbody tr th {\n",
       "        vertical-align: top;\n",
       "    }\n",
       "\n",
       "    .dataframe thead th {\n",
       "        text-align: right;\n",
       "    }\n",
       "</style>\n",
       "<table border=\"1\" class=\"dataframe\">\n",
       "  <thead>\n",
       "    <tr style=\"text-align: right;\">\n",
       "      <th></th>\n",
       "      <th>elevation</th>\n",
       "      <th>square_feet</th>\n",
       "      <th>est_playing_time</th>\n",
       "      <th>land_obstacles</th>\n",
       "      <th>water_obstacles</th>\n",
       "      <th>tunnel_shots</th>\n",
       "      <th>est_construction_cost</th>\n",
       "      <th>est_maintenance_cost</th>\n",
       "      <th>average_hole_length</th>\n",
       "      <th>average_hole_width</th>\n",
       "      <th>Cluster</th>\n",
       "    </tr>\n",
       "  </thead>\n",
       "  <tbody>\n",
       "    <tr>\n",
       "      <th>0</th>\n",
       "      <td>11.64</td>\n",
       "      <td>21037.18</td>\n",
       "      <td>43.35</td>\n",
       "      <td>10.0</td>\n",
       "      <td>3.0</td>\n",
       "      <td>3.0</td>\n",
       "      <td>103082.72</td>\n",
       "      <td>7261.22</td>\n",
       "      <td>18.99</td>\n",
       "      <td>3.90</td>\n",
       "      <td>1</td>\n",
       "    </tr>\n",
       "    <tr>\n",
       "      <th>1</th>\n",
       "      <td>6.58</td>\n",
       "      <td>23646.44</td>\n",
       "      <td>42.30</td>\n",
       "      <td>10.0</td>\n",
       "      <td>4.0</td>\n",
       "      <td>3.0</td>\n",
       "      <td>91637.93</td>\n",
       "      <td>6553.91</td>\n",
       "      <td>21.35</td>\n",
       "      <td>2.49</td>\n",
       "      <td>2</td>\n",
       "    </tr>\n",
       "    <tr>\n",
       "      <th>2</th>\n",
       "      <td>11.08</td>\n",
       "      <td>20012.28</td>\n",
       "      <td>41.43</td>\n",
       "      <td>9.0</td>\n",
       "      <td>3.0</td>\n",
       "      <td>3.0</td>\n",
       "      <td>107049.47</td>\n",
       "      <td>5847.06</td>\n",
       "      <td>19.09</td>\n",
       "      <td>2.63</td>\n",
       "      <td>1</td>\n",
       "    </tr>\n",
       "    <tr>\n",
       "      <th>3</th>\n",
       "      <td>9.91</td>\n",
       "      <td>20761.90</td>\n",
       "      <td>46.04</td>\n",
       "      <td>10.0</td>\n",
       "      <td>4.0</td>\n",
       "      <td>3.0</td>\n",
       "      <td>101799.55</td>\n",
       "      <td>8876.01</td>\n",
       "      <td>19.36</td>\n",
       "      <td>3.51</td>\n",
       "      <td>1</td>\n",
       "    </tr>\n",
       "    <tr>\n",
       "      <th>4</th>\n",
       "      <td>11.99</td>\n",
       "      <td>19818.75</td>\n",
       "      <td>44.82</td>\n",
       "      <td>7.0</td>\n",
       "      <td>6.0</td>\n",
       "      <td>4.0</td>\n",
       "      <td>94731.84</td>\n",
       "      <td>8445.70</td>\n",
       "      <td>16.81</td>\n",
       "      <td>2.67</td>\n",
       "      <td>1</td>\n",
       "    </tr>\n",
       "  </tbody>\n",
       "</table>\n",
       "</div>"
      ],
      "text/plain": [
       "   elevation  square_feet  est_playing_time  land_obstacles  water_obstacles  \\\n",
       "0      11.64     21037.18             43.35            10.0              3.0   \n",
       "1       6.58     23646.44             42.30            10.0              4.0   \n",
       "2      11.08     20012.28             41.43             9.0              3.0   \n",
       "3       9.91     20761.90             46.04            10.0              4.0   \n",
       "4      11.99     19818.75             44.82             7.0              6.0   \n",
       "\n",
       "   tunnel_shots  est_construction_cost  est_maintenance_cost  \\\n",
       "0           3.0              103082.72               7261.22   \n",
       "1           3.0               91637.93               6553.91   \n",
       "2           3.0              107049.47               5847.06   \n",
       "3           3.0              101799.55               8876.01   \n",
       "4           4.0               94731.84               8445.70   \n",
       "\n",
       "   average_hole_length  average_hole_width  Cluster  \n",
       "0                18.99                3.90        1  \n",
       "1                21.35                2.49        2  \n",
       "2                19.09                2.63        1  \n",
       "3                19.36                3.51        1  \n",
       "4                16.81                2.67        1  "
      ]
     },
     "execution_count": 48,
     "metadata": {},
     "output_type": "execute_result"
    }
   ],
   "source": [
    "golf_cluster.head()"
   ]
  },
  {
   "cell_type": "markdown",
   "metadata": {},
   "source": [
    "#### G. Generate and show summary statistics about each of your clusters."
   ]
  },
  {
   "cell_type": "code",
   "execution_count": 49,
   "metadata": {},
   "outputs": [
    {
     "data": {
      "text/html": [
       "<div>\n",
       "<style scoped>\n",
       "    .dataframe tbody tr th:only-of-type {\n",
       "        vertical-align: middle;\n",
       "    }\n",
       "\n",
       "    .dataframe tbody tr th {\n",
       "        vertical-align: top;\n",
       "    }\n",
       "\n",
       "    .dataframe thead th {\n",
       "        text-align: right;\n",
       "    }\n",
       "</style>\n",
       "<table border=\"1\" class=\"dataframe\">\n",
       "  <thead>\n",
       "    <tr style=\"text-align: right;\">\n",
       "      <th></th>\n",
       "      <th>square_feet</th>\n",
       "      <th>est_construction_cost</th>\n",
       "      <th>est_maintenance_cost</th>\n",
       "    </tr>\n",
       "    <tr>\n",
       "      <th>Cluster</th>\n",
       "      <th></th>\n",
       "      <th></th>\n",
       "      <th></th>\n",
       "    </tr>\n",
       "  </thead>\n",
       "  <tbody>\n",
       "    <tr>\n",
       "      <th>0</th>\n",
       "      <td>24754.41</td>\n",
       "      <td>84712.52</td>\n",
       "      <td>7551.36</td>\n",
       "    </tr>\n",
       "    <tr>\n",
       "      <th>1</th>\n",
       "      <td>19985.26</td>\n",
       "      <td>105199.56</td>\n",
       "      <td>7382.96</td>\n",
       "    </tr>\n",
       "    <tr>\n",
       "      <th>2</th>\n",
       "      <td>22149.62</td>\n",
       "      <td>92833.78</td>\n",
       "      <td>8187.60</td>\n",
       "    </tr>\n",
       "  </tbody>\n",
       "</table>\n",
       "</div>"
      ],
      "text/plain": [
       "         square_feet  est_construction_cost  est_maintenance_cost\n",
       "Cluster                                                          \n",
       "0           24754.41               84712.52               7551.36\n",
       "1           19985.26              105199.56               7382.96\n",
       "2           22149.62               92833.78               8187.60"
      ]
     },
     "execution_count": 49,
     "metadata": {},
     "output_type": "execute_result"
    }
   ],
   "source": [
    "golf_cluster = golf.assign(Cluster = cluster_labels)\n",
    "grouped = golf_cluster.groupby(['Cluster'])\n",
    "\n",
    "grouped.agg({ \n",
    "'square_feet': 'mean',\n",
    "'est_construction_cost' : 'mean',\n",
    "'est_maintenance_cost' : 'mean'}).round(2)"
   ]
  },
  {
   "cell_type": "markdown",
   "metadata": {},
   "source": [
    "#### H. Build any three simple visualizations to help management better understand your clusters (a simple visualization could be a histogram, a barplot, a scatterplot, etc.) You may wish to facet your visualizations by cluster."
   ]
  },
  {
   "cell_type": "code",
   "execution_count": 55,
   "metadata": {},
   "outputs": [
    {
     "data": {
      "text/plain": [
       "<matplotlib.axes._subplots.AxesSubplot at 0x7f9bfa9acb10>"
      ]
     },
     "execution_count": 55,
     "metadata": {},
     "output_type": "execute_result"
    },
    {
     "data": {
      "image/png": "[encoded data removed]",
      "text/plain": [
       "<Figure size 432x288 with 1 Axes>"
      ]
     },
     "metadata": {
      "needs_background": "light"
     },
     "output_type": "display_data"
    }
   ],
   "source": [
    "sns.scatterplot(data = golf_cluster, x = 'Cluster' , y = 'est_construction_cost')"
   ]
  },
  {
   "cell_type": "markdown",
   "metadata": {},
   "source": [
    "The scatterplot depicts each cluster in terms of their construction costs. As seen, cluster 0 falls in lower construction costs, cluster 1 in higher costs and cluster 2 in the middle cost range. The management can use this information to identify the vendors based on their cost. "
   ]
  },
  {
   "cell_type": "code",
   "execution_count": 58,
   "metadata": {},
   "outputs": [
    {
     "data": {
      "text/plain": [
       "<matplotlib.axes._subplots.AxesSubplot at 0x7f9bf9fb6710>"
      ]
     },
     "execution_count": 58,
     "metadata": {},
     "output_type": "execute_result"
    },
    {
     "data": {
      "image/png": "[encoded data removed]",
      "text/plain": [
       "<Figure size 432x288 with 1 Axes>"
      ]
     },
     "metadata": {
      "needs_background": "light"
     },
     "output_type": "display_data"
    }
   ],
   "source": [
    "sns.barplot(data = golf_cluster, x = 'Cluster', y = 'est_maintenance_cost', ci = None)"
   ]
  },
  {
   "cell_type": "markdown",
   "metadata": {},
   "source": [
    "The bar plot depicts each cluster in terms of their maintenance costs. As seen, cluster 0 and 1 fall in lower maintenance costs where cluster 2 has higher costs. Interestingly, the cluster 2 has medium price range in terms of construction cost but a higher maintenance cost. This can be due to their focus on providing great after-service. "
   ]
  },
  {
   "cell_type": "code",
   "execution_count": 60,
   "metadata": {},
   "outputs": [
    {
     "data": {
      "text/plain": [
       "<matplotlib.axes._subplots.AxesSubplot at 0x7f9bf9de1d10>"
      ]
     },
     "execution_count": 60,
     "metadata": {},
     "output_type": "execute_result"
    },
    {
     "data": {
      "image/png": "[encoded data removed]",
      "text/plain": [
       "<Figure size 432x288 with 1 Axes>"
      ]
     },
     "metadata": {
      "needs_background": "light"
     },
     "output_type": "display_data"
    }
   ],
   "source": [
    "sns.scatterplot(data = golf_cluster, x = 'Cluster' , y = 'square_feet')"
   ]
  },
  {
   "cell_type": "markdown",
   "metadata": {},
   "source": [
    "The scatterplot depicts each cluster in terms of their square feet. As seen, cluster 0 falls in higher square feet, \n",
    "cluster 1 fall in lower square feet where cluster 2 has a medium range. Interestingly, this scatterplot yields similar results as the maintenance cost scatter plot showing a better relation between the two variables. "
   ]
  },
  {
   "cell_type": "markdown",
   "metadata": {},
   "source": [
    "#### I. Give a descriptive label to each one of your clusters, along with a sentence or two of explanation for the label that you chose. For each cluster, also include a sentence or two with your thoughts about why this cluster’s courses might be good (or bad) for Lobster Land."
   ]
  },
  {
   "cell_type": "markdown",
   "metadata": {},
   "source": [
    "Low Construction Cost <- Cluster 0 has an average square feet of 24,000 along with construction cost of $85,000 and maintenance cost of $7,500. Lobster Land Management can use this cluster to identify golf course vendors that have low construction costs.\n",
    "\n",
    "Low Square Feet <- Cluster 1 has lower average square feet of 19,000 with high construction cost of $105,199 and lower maintenance cost of $7,300. This cluster can help the management different it's vendors have the highest construction costs but low square feet. This cluster will help them identify vendors they 'don't need' since these vendors have higher costs with respect to square feet. It won't be beneficial for them to chose this cluster due to high costs. \n",
    "\n",
    "Higher Maintenance Cost <- Cluster 2 has average square feet of 22,000 with construction cost of $92,000 and highest maintenance cost of $8,187. This cluster seems an ideal condition with the construction costs and maintenance costs match correctly with the square feet. "
   ]
  },
  {
   "cell_type": "markdown",
   "metadata": {},
   "source": [
    "## Part 2: Conjoint Analysis"
   ]
  },
  {
   "cell_type": "markdown",
   "metadata": {},
   "source": [
    "#### A. Read the dataset hotel_options.csv into your local environment in Jupyter Notebook."
   ]
  },
  {
   "cell_type": "code",
   "execution_count": 34,
   "metadata": {},
   "outputs": [],
   "source": [
    "hotel = pd.read_csv('hotel_options.csv')"
   ]
  },
  {
   "cell_type": "code",
   "execution_count": 6,
   "metadata": {},
   "outputs": [
    {
     "data": {
      "text/html": [
       "<div>\n",
       "<style scoped>\n",
       "    .dataframe tbody tr th:only-of-type {\n",
       "        vertical-align: middle;\n",
       "    }\n",
       "\n",
       "    .dataframe tbody tr th {\n",
       "        vertical-align: top;\n",
       "    }\n",
       "\n",
       "    .dataframe thead th {\n",
       "        text-align: right;\n",
       "    }\n",
       "</style>\n",
       "<table border=\"1\" class=\"dataframe\">\n",
       "  <thead>\n",
       "    <tr style=\"text-align: right;\">\n",
       "      <th></th>\n",
       "      <th>bundle</th>\n",
       "      <th>breakfast</th>\n",
       "      <th>flex_in_out</th>\n",
       "      <th>pool_type</th>\n",
       "      <th>tennis_court</th>\n",
       "      <th>jacuzzi</th>\n",
       "      <th>WiFi</th>\n",
       "      <th>rating</th>\n",
       "    </tr>\n",
       "  </thead>\n",
       "  <tbody>\n",
       "    <tr>\n",
       "      <th>0</th>\n",
       "      <td>1</td>\n",
       "      <td>NONE</td>\n",
       "      <td>Yes</td>\n",
       "      <td>Indoor Pool</td>\n",
       "      <td>No</td>\n",
       "      <td>Yes</td>\n",
       "      <td>No WiFi</td>\n",
       "      <td>2.45</td>\n",
       "    </tr>\n",
       "    <tr>\n",
       "      <th>1</th>\n",
       "      <td>2</td>\n",
       "      <td>NONE</td>\n",
       "      <td>Yes</td>\n",
       "      <td>Indoor Pool</td>\n",
       "      <td>No</td>\n",
       "      <td>Yes</td>\n",
       "      <td>Regular Speed WiFi</td>\n",
       "      <td>2.40</td>\n",
       "    </tr>\n",
       "    <tr>\n",
       "      <th>2</th>\n",
       "      <td>3</td>\n",
       "      <td>NONE</td>\n",
       "      <td>Yes</td>\n",
       "      <td>Indoor Pool</td>\n",
       "      <td>No</td>\n",
       "      <td>Yes</td>\n",
       "      <td>SuperSpeed WiFi</td>\n",
       "      <td>2.41</td>\n",
       "    </tr>\n",
       "    <tr>\n",
       "      <th>3</th>\n",
       "      <td>4</td>\n",
       "      <td>NONE</td>\n",
       "      <td>Yes</td>\n",
       "      <td>Indoor Pool</td>\n",
       "      <td>No</td>\n",
       "      <td>No</td>\n",
       "      <td>No WiFi</td>\n",
       "      <td>2.49</td>\n",
       "    </tr>\n",
       "    <tr>\n",
       "      <th>4</th>\n",
       "      <td>5</td>\n",
       "      <td>NONE</td>\n",
       "      <td>Yes</td>\n",
       "      <td>Indoor Pool</td>\n",
       "      <td>No</td>\n",
       "      <td>No</td>\n",
       "      <td>Regular Speed WiFi</td>\n",
       "      <td>2.58</td>\n",
       "    </tr>\n",
       "  </tbody>\n",
       "</table>\n",
       "</div>"
      ],
      "text/plain": [
       "   bundle breakfast flex_in_out    pool_type tennis_court jacuzzi  \\\n",
       "0       1      NONE         Yes  Indoor Pool           No     Yes   \n",
       "1       2      NONE         Yes  Indoor Pool           No     Yes   \n",
       "2       3      NONE         Yes  Indoor Pool           No     Yes   \n",
       "3       4      NONE         Yes  Indoor Pool           No      No   \n",
       "4       5      NONE         Yes  Indoor Pool           No      No   \n",
       "\n",
       "                 WiFi  rating  \n",
       "0             No WiFi    2.45  \n",
       "1  Regular Speed WiFi    2.40  \n",
       "2     SuperSpeed WiFi    2.41  \n",
       "3             No WiFi    2.49  \n",
       "4  Regular Speed WiFi    2.58  "
      ]
     },
     "execution_count": 6,
     "metadata": {},
     "output_type": "execute_result"
    }
   ],
   "source": [
    "hotel.head()"
   ]
  },
  {
   "cell_type": "markdown",
   "metadata": {},
   "source": [
    "#### B. Based on the descriptions shown above, which of your variables are numeric, and which are categorical?\n",
    "\n",
    "The variables breakfast, flex_in_out, pool_type, tennis_court, jacuzzi and WiFi are categorical variables and bundle and rating are numerical variables. \n",
    "\n",
    "#### C. Use the pandas get_dummies() function in order to prepare these variables for use in a linear model. Inside this function, include this argument: drop_first = True. Doing this will save us from the multicollinearity problem that would make our model unreliable."
   ]
  },
  {
   "cell_type": "code",
   "execution_count": 15,
   "metadata": {},
   "outputs": [
    {
     "data": {
      "text/html": [
       "<div>\n",
       "<style scoped>\n",
       "    .dataframe tbody tr th:only-of-type {\n",
       "        vertical-align: middle;\n",
       "    }\n",
       "\n",
       "    .dataframe tbody tr th {\n",
       "        vertical-align: top;\n",
       "    }\n",
       "\n",
       "    .dataframe thead th {\n",
       "        text-align: right;\n",
       "    }\n",
       "</style>\n",
       "<table border=\"1\" class=\"dataframe\">\n",
       "  <thead>\n",
       "    <tr style=\"text-align: right;\">\n",
       "      <th></th>\n",
       "      <th>bundle</th>\n",
       "      <th>rating</th>\n",
       "      <th>breakfast_LIGHT</th>\n",
       "      <th>breakfast_NONE</th>\n",
       "      <th>flex_in_out_Yes</th>\n",
       "      <th>pool_type_Indoor and Outdoor Pools</th>\n",
       "      <th>pool_type_Outdoor Pool</th>\n",
       "      <th>tennis_court_Yes</th>\n",
       "      <th>jacuzzi_Yes</th>\n",
       "      <th>WiFi_Regular Speed WiFi</th>\n",
       "      <th>WiFi_SuperSpeed WiFi</th>\n",
       "    </tr>\n",
       "  </thead>\n",
       "  <tbody>\n",
       "    <tr>\n",
       "      <th>0</th>\n",
       "      <td>1</td>\n",
       "      <td>2.45</td>\n",
       "      <td>0</td>\n",
       "      <td>1</td>\n",
       "      <td>1</td>\n",
       "      <td>0</td>\n",
       "      <td>0</td>\n",
       "      <td>0</td>\n",
       "      <td>1</td>\n",
       "      <td>0</td>\n",
       "      <td>0</td>\n",
       "    </tr>\n",
       "    <tr>\n",
       "      <th>1</th>\n",
       "      <td>2</td>\n",
       "      <td>2.40</td>\n",
       "      <td>0</td>\n",
       "      <td>1</td>\n",
       "      <td>1</td>\n",
       "      <td>0</td>\n",
       "      <td>0</td>\n",
       "      <td>0</td>\n",
       "      <td>1</td>\n",
       "      <td>1</td>\n",
       "      <td>0</td>\n",
       "    </tr>\n",
       "    <tr>\n",
       "      <th>2</th>\n",
       "      <td>3</td>\n",
       "      <td>2.41</td>\n",
       "      <td>0</td>\n",
       "      <td>1</td>\n",
       "      <td>1</td>\n",
       "      <td>0</td>\n",
       "      <td>0</td>\n",
       "      <td>0</td>\n",
       "      <td>1</td>\n",
       "      <td>0</td>\n",
       "      <td>1</td>\n",
       "    </tr>\n",
       "    <tr>\n",
       "      <th>3</th>\n",
       "      <td>4</td>\n",
       "      <td>2.49</td>\n",
       "      <td>0</td>\n",
       "      <td>1</td>\n",
       "      <td>1</td>\n",
       "      <td>0</td>\n",
       "      <td>0</td>\n",
       "      <td>0</td>\n",
       "      <td>0</td>\n",
       "      <td>0</td>\n",
       "      <td>0</td>\n",
       "    </tr>\n",
       "    <tr>\n",
       "      <th>4</th>\n",
       "      <td>5</td>\n",
       "      <td>2.58</td>\n",
       "      <td>0</td>\n",
       "      <td>1</td>\n",
       "      <td>1</td>\n",
       "      <td>0</td>\n",
       "      <td>0</td>\n",
       "      <td>0</td>\n",
       "      <td>0</td>\n",
       "      <td>1</td>\n",
       "      <td>0</td>\n",
       "    </tr>\n",
       "    <tr>\n",
       "      <th>...</th>\n",
       "      <td>...</td>\n",
       "      <td>...</td>\n",
       "      <td>...</td>\n",
       "      <td>...</td>\n",
       "      <td>...</td>\n",
       "      <td>...</td>\n",
       "      <td>...</td>\n",
       "      <td>...</td>\n",
       "      <td>...</td>\n",
       "      <td>...</td>\n",
       "      <td>...</td>\n",
       "    </tr>\n",
       "    <tr>\n",
       "      <th>211</th>\n",
       "      <td>212</td>\n",
       "      <td>2.50</td>\n",
       "      <td>0</td>\n",
       "      <td>0</td>\n",
       "      <td>0</td>\n",
       "      <td>1</td>\n",
       "      <td>0</td>\n",
       "      <td>1</td>\n",
       "      <td>1</td>\n",
       "      <td>1</td>\n",
       "      <td>0</td>\n",
       "    </tr>\n",
       "    <tr>\n",
       "      <th>212</th>\n",
       "      <td>213</td>\n",
       "      <td>2.95</td>\n",
       "      <td>0</td>\n",
       "      <td>0</td>\n",
       "      <td>0</td>\n",
       "      <td>1</td>\n",
       "      <td>0</td>\n",
       "      <td>1</td>\n",
       "      <td>1</td>\n",
       "      <td>0</td>\n",
       "      <td>1</td>\n",
       "    </tr>\n",
       "    <tr>\n",
       "      <th>213</th>\n",
       "      <td>214</td>\n",
       "      <td>2.40</td>\n",
       "      <td>0</td>\n",
       "      <td>0</td>\n",
       "      <td>0</td>\n",
       "      <td>1</td>\n",
       "      <td>0</td>\n",
       "      <td>1</td>\n",
       "      <td>0</td>\n",
       "      <td>0</td>\n",
       "      <td>0</td>\n",
       "    </tr>\n",
       "    <tr>\n",
       "      <th>214</th>\n",
       "      <td>215</td>\n",
       "      <td>2.48</td>\n",
       "      <td>0</td>\n",
       "      <td>0</td>\n",
       "      <td>0</td>\n",
       "      <td>1</td>\n",
       "      <td>0</td>\n",
       "      <td>1</td>\n",
       "      <td>0</td>\n",
       "      <td>1</td>\n",
       "      <td>0</td>\n",
       "    </tr>\n",
       "    <tr>\n",
       "      <th>215</th>\n",
       "      <td>216</td>\n",
       "      <td>2.52</td>\n",
       "      <td>0</td>\n",
       "      <td>0</td>\n",
       "      <td>0</td>\n",
       "      <td>1</td>\n",
       "      <td>0</td>\n",
       "      <td>1</td>\n",
       "      <td>0</td>\n",
       "      <td>0</td>\n",
       "      <td>1</td>\n",
       "    </tr>\n",
       "  </tbody>\n",
       "</table>\n",
       "<p>216 rows × 11 columns</p>\n",
       "</div>"
      ],
      "text/plain": [
       "     bundle  rating  breakfast_LIGHT   breakfast_NONE  flex_in_out_Yes  \\\n",
       "0         1    2.45                 0               1                1   \n",
       "1         2    2.40                 0               1                1   \n",
       "2         3    2.41                 0               1                1   \n",
       "3         4    2.49                 0               1                1   \n",
       "4         5    2.58                 0               1                1   \n",
       "..      ...     ...               ...             ...              ...   \n",
       "211     212    2.50                 0               0                0   \n",
       "212     213    2.95                 0               0                0   \n",
       "213     214    2.40                 0               0                0   \n",
       "214     215    2.48                 0               0                0   \n",
       "215     216    2.52                 0               0                0   \n",
       "\n",
       "     pool_type_Indoor and Outdoor Pools  pool_type_Outdoor Pool  \\\n",
       "0                                     0                       0   \n",
       "1                                     0                       0   \n",
       "2                                     0                       0   \n",
       "3                                     0                       0   \n",
       "4                                     0                       0   \n",
       "..                                  ...                     ...   \n",
       "211                                   1                       0   \n",
       "212                                   1                       0   \n",
       "213                                   1                       0   \n",
       "214                                   1                       0   \n",
       "215                                   1                       0   \n",
       "\n",
       "     tennis_court_Yes  jacuzzi_Yes  WiFi_Regular Speed WiFi  \\\n",
       "0                   0            1                        0   \n",
       "1                   0            1                        1   \n",
       "2                   0            1                        0   \n",
       "3                   0            0                        0   \n",
       "4                   0            0                        1   \n",
       "..                ...          ...                      ...   \n",
       "211                 1            1                        1   \n",
       "212                 1            1                        0   \n",
       "213                 1            0                        0   \n",
       "214                 1            0                        1   \n",
       "215                 1            0                        0   \n",
       "\n",
       "     WiFi_SuperSpeed WiFi  \n",
       "0                       0  \n",
       "1                       0  \n",
       "2                       1  \n",
       "3                       0  \n",
       "4                       0  \n",
       "..                    ...  \n",
       "211                     0  \n",
       "212                     1  \n",
       "213                     0  \n",
       "214                     0  \n",
       "215                     1  \n",
       "\n",
       "[216 rows x 11 columns]"
      ]
     },
     "execution_count": 15,
     "metadata": {},
     "output_type": "execute_result"
    }
   ],
   "source": [
    "hotel_dummies = pd.get_dummies(hotel, drop_first = True, columns = ['breakfast', 'flex_in_out', 'pool_type', 'tennis_court', 'jacuzzi', 'WiFi'])\n",
    "hotel_dummies"
   ]
  },
  {
   "cell_type": "markdown",
   "metadata": {},
   "source": [
    "#### D. Build a linear model with your data, using the outcome variable rating, and with all of your other variables (other than bundle number) as inputs."
   ]
  },
  {
   "cell_type": "code",
   "execution_count": 17,
   "metadata": {},
   "outputs": [
    {
     "data": {
      "text/plain": [
       "Index(['bundle', 'rating', 'breakfast_LIGHT ', 'breakfast_NONE',\n",
       "       'flex_in_out_Yes', 'pool_type_Indoor and Outdoor Pools',\n",
       "       'pool_type_Outdoor Pool', 'tennis_court_Yes', 'jacuzzi_Yes',\n",
       "       'WiFi_Regular Speed WiFi', 'WiFi_SuperSpeed WiFi'],\n",
       "      dtype='object')"
      ]
     },
     "execution_count": 17,
     "metadata": {},
     "output_type": "execute_result"
    }
   ],
   "source": [
    "hotel_dummies.columns"
   ]
  },
  {
   "cell_type": "code",
   "execution_count": 19,
   "metadata": {},
   "outputs": [],
   "source": [
    "x = hotel_dummies[['breakfast_LIGHT ', 'breakfast_NONE',\n",
    "       'flex_in_out_Yes', 'pool_type_Indoor and Outdoor Pools',\n",
    "       'pool_type_Outdoor Pool', 'tennis_court_Yes', 'jacuzzi_Yes',\n",
    "       'WiFi_Regular Speed WiFi', 'WiFi_SuperSpeed WiFi']]\n",
    "y = hotel_dummies['rating']"
   ]
  },
  {
   "cell_type": "code",
   "execution_count": 24,
   "metadata": {},
   "outputs": [
    {
     "data": {
      "text/plain": [
       "LinearRegression(copy_X=True, fit_intercept=True, n_jobs=None, normalize=False)"
      ]
     },
     "execution_count": 24,
     "metadata": {},
     "output_type": "execute_result"
    }
   ],
   "source": [
    "from sklearn.linear_model import LinearRegression as lr\n",
    "from sklearn import metrics\n",
    "\n",
    "lr_model = lr()\n",
    "lr_model.fit(x,y)"
   ]
  },
  {
   "cell_type": "markdown",
   "metadata": {},
   "source": [
    " #### E. Display the coefficient values of your model inputs."
   ]
  },
  {
   "cell_type": "code",
   "execution_count": 27,
   "metadata": {},
   "outputs": [
    {
     "data": {
      "text/html": [
       "<div>\n",
       "<style scoped>\n",
       "    .dataframe tbody tr th:only-of-type {\n",
       "        vertical-align: middle;\n",
       "    }\n",
       "\n",
       "    .dataframe tbody tr th {\n",
       "        vertical-align: top;\n",
       "    }\n",
       "\n",
       "    .dataframe thead th {\n",
       "        text-align: right;\n",
       "    }\n",
       "</style>\n",
       "<table border=\"1\" class=\"dataframe\">\n",
       "  <thead>\n",
       "    <tr style=\"text-align: right;\">\n",
       "      <th></th>\n",
       "      <th>Coefficient</th>\n",
       "    </tr>\n",
       "  </thead>\n",
       "  <tbody>\n",
       "    <tr>\n",
       "      <th>breakfast_LIGHT</th>\n",
       "      <td>-0.152500</td>\n",
       "    </tr>\n",
       "    <tr>\n",
       "      <th>breakfast_NONE</th>\n",
       "      <td>-0.676667</td>\n",
       "    </tr>\n",
       "    <tr>\n",
       "      <th>flex_in_out_Yes</th>\n",
       "      <td>-0.291759</td>\n",
       "    </tr>\n",
       "    <tr>\n",
       "      <th>pool_type_Indoor and Outdoor Pools</th>\n",
       "      <td>-0.100972</td>\n",
       "    </tr>\n",
       "    <tr>\n",
       "      <th>pool_type_Outdoor Pool</th>\n",
       "      <td>1.968056</td>\n",
       "    </tr>\n",
       "    <tr>\n",
       "      <th>tennis_court_Yes</th>\n",
       "      <td>-0.256759</td>\n",
       "    </tr>\n",
       "    <tr>\n",
       "      <th>jacuzzi_Yes</th>\n",
       "      <td>0.318426</td>\n",
       "    </tr>\n",
       "    <tr>\n",
       "      <th>WiFi_Regular Speed WiFi</th>\n",
       "      <td>0.494167</td>\n",
       "    </tr>\n",
       "    <tr>\n",
       "      <th>WiFi_SuperSpeed WiFi</th>\n",
       "      <td>0.697500</td>\n",
       "    </tr>\n",
       "  </tbody>\n",
       "</table>\n",
       "</div>"
      ],
      "text/plain": [
       "                                    Coefficient\n",
       "breakfast_LIGHT                       -0.152500\n",
       "breakfast_NONE                        -0.676667\n",
       "flex_in_out_Yes                       -0.291759\n",
       "pool_type_Indoor and Outdoor Pools    -0.100972\n",
       "pool_type_Outdoor Pool                 1.968056\n",
       "tennis_court_Yes                      -0.256759\n",
       "jacuzzi_Yes                            0.318426\n",
       "WiFi_Regular Speed WiFi                0.494167\n",
       "WiFi_SuperSpeed WiFi                   0.697500"
      ]
     },
     "execution_count": 27,
     "metadata": {},
     "output_type": "execute_result"
    }
   ],
   "source": [
    "coef_hotel = pd.DataFrame(lr_model.coef_ , x.columns, columns = ['Coefficient'])\n",
    "coef_hotel"
   ]
  },
  {
   "cell_type": "markdown",
   "metadata": {},
   "source": [
    "#### F. Write a paragraph for Lobster Land management about what your model is showing you. It would be good here to include some detail about which features seemed to be most popular, or least popular, among respondents.\n",
    "\n",
    "Based on the model, it can be seen that most respondents prefer having a lighter breakfast rather than a full buffet.  It can also be inferred that most respondents prefer outdoor pools, jacuzzi and a super speed WiFi. When given the option, users prefer Super Speed WiFi along with a Tennise Court, Jacuzzi and an Outdoor Pool. The Lobster Land management should focus on providing these features to its users. \n",
    "\n",
    "Interestingly, it can be seen that people are willing to pay an extra fee for these features indicating that if the management decides on improving them, people will be willing to pay. All these features are an extra cost but still the most popular. "
   ]
  }
 ],
 "metadata": {
  "kernelspec": {
   "display_name": "Python 3",
   "language": "python",
   "name": "python3"
  },
  "language_info": {
   "codemirror_mode": {
    "name": "ipython",
    "version": 3
   },
   "file_extension": ".py",
   "mimetype": "text/x-python",
   "name": "python",
   "nbconvert_exporter": "python",
   "pygments_lexer": "ipython3",
   "version": "3.7.4"
  }
 },
 "nbformat": 4,
 "nbformat_minor": 4
}
