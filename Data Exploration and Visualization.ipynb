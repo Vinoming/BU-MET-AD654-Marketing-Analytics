{
 "cells": [
  {
   "cell_type": "markdown",
   "metadata": {},
   "source": [
    "## AD654 Assignment 1: Data Exploration and Visualization \n",
    "###### By: Shimony Agrawal "
   ]
  },
  {
   "cell_type": "code",
   "execution_count": 1,
   "metadata": {},
   "outputs": [
    {
     "name": "stdout",
     "output_type": "stream",
     "text": [
      "/Users/shimonyagrawal/Desktop\n"
     ]
    }
   ],
   "source": [
    "%cd /Users/shimonyagrawal/Desktop\n",
    "import pandas as pd\n",
    "import matplotlib.pyplot as plt\n",
    "import seaborn as sns"
   ]
  },
  {
   "cell_type": "code",
   "execution_count": 2,
   "metadata": {},
   "outputs": [],
   "source": [
    "lobsterland = pd.read_csv('lobsterland_2020.csv')"
   ]
  },
  {
   "cell_type": "markdown",
   "metadata": {},
   "source": [
    "## Exploratory Data Analysis"
   ]
  },
  {
   "cell_type": "markdown",
   "metadata": {},
   "source": [
    "#### A: Call the head() function on lobsterland and look at your results.\n"
   ]
  },
  {
   "cell_type": "code",
   "execution_count": 3,
   "metadata": {},
   "outputs": [
    {
     "data": {
      "text/html": [
       "<div>\n",
       "<style scoped>\n",
       "    .dataframe tbody tr th:only-of-type {\n",
       "        vertical-align: middle;\n",
       "    }\n",
       "\n",
       "    .dataframe tbody tr th {\n",
       "        vertical-align: top;\n",
       "    }\n",
       "\n",
       "    .dataframe thead th {\n",
       "        text-align: right;\n",
       "    }\n",
       "</style>\n",
       "<table border=\"1\" class=\"dataframe\">\n",
       "  <thead>\n",
       "    <tr style=\"text-align: right;\">\n",
       "      <th></th>\n",
       "      <th>DATE</th>\n",
       "      <th>WEEKDAY</th>\n",
       "      <th>LOW.TEMP</th>\n",
       "      <th>HIGH.TEMP</th>\n",
       "      <th>PRECIP</th>\n",
       "      <th>DayPass</th>\n",
       "      <th>GoldZoneRev</th>\n",
       "      <th>RidePax</th>\n",
       "      <th>TShirts</th>\n",
       "      <th>LobsterRolls</th>\n",
       "      <th>SnackShack</th>\n",
       "      <th>StaffHours</th>\n",
       "      <th>FirstAid</th>\n",
       "      <th>MaineStatus</th>\n",
       "      <th>Event</th>\n",
       "      <th>TotalRevenue</th>\n",
       "    </tr>\n",
       "  </thead>\n",
       "  <tbody>\n",
       "    <tr>\n",
       "      <th>0</th>\n",
       "      <td>25May</td>\n",
       "      <td>Monday</td>\n",
       "      <td>40</td>\n",
       "      <td>58</td>\n",
       "      <td>0.0</td>\n",
       "      <td>3642</td>\n",
       "      <td>28034.42</td>\n",
       "      <td>16471</td>\n",
       "      <td>950</td>\n",
       "      <td>1729</td>\n",
       "      <td>22678.03</td>\n",
       "      <td>660.53</td>\n",
       "      <td>2</td>\n",
       "      <td>1</td>\n",
       "      <td>0</td>\n",
       "      <td>139359.29</td>\n",
       "    </tr>\n",
       "    <tr>\n",
       "      <th>1</th>\n",
       "      <td>26May</td>\n",
       "      <td>Tuesday</td>\n",
       "      <td>52</td>\n",
       "      <td>70</td>\n",
       "      <td>0.0</td>\n",
       "      <td>3182</td>\n",
       "      <td>23767.15</td>\n",
       "      <td>14287</td>\n",
       "      <td>781</td>\n",
       "      <td>410</td>\n",
       "      <td>19827.31</td>\n",
       "      <td>551.23</td>\n",
       "      <td>2</td>\n",
       "      <td>1</td>\n",
       "      <td>0</td>\n",
       "      <td>103543.62</td>\n",
       "    </tr>\n",
       "    <tr>\n",
       "      <th>2</th>\n",
       "      <td>27May</td>\n",
       "      <td>Wednesday</td>\n",
       "      <td>53</td>\n",
       "      <td>77</td>\n",
       "      <td>0.0</td>\n",
       "      <td>1983</td>\n",
       "      <td>14833.90</td>\n",
       "      <td>9005</td>\n",
       "      <td>332</td>\n",
       "      <td>343</td>\n",
       "      <td>12341.85</td>\n",
       "      <td>427.60</td>\n",
       "      <td>4</td>\n",
       "      <td>1</td>\n",
       "      <td>2</td>\n",
       "      <td>62761.28</td>\n",
       "    </tr>\n",
       "    <tr>\n",
       "      <th>3</th>\n",
       "      <td>28May</td>\n",
       "      <td>Thursday</td>\n",
       "      <td>62</td>\n",
       "      <td>86</td>\n",
       "      <td>0.0</td>\n",
       "      <td>3600</td>\n",
       "      <td>26461.20</td>\n",
       "      <td>16244</td>\n",
       "      <td>1050</td>\n",
       "      <td>1418</td>\n",
       "      <td>22678.48</td>\n",
       "      <td>702.52</td>\n",
       "      <td>1</td>\n",
       "      <td>1</td>\n",
       "      <td>1</td>\n",
       "      <td>134613.21</td>\n",
       "    </tr>\n",
       "    <tr>\n",
       "      <th>4</th>\n",
       "      <td>29May</td>\n",
       "      <td>Friday</td>\n",
       "      <td>46</td>\n",
       "      <td>78</td>\n",
       "      <td>NaN</td>\n",
       "      <td>3280</td>\n",
       "      <td>24557.22</td>\n",
       "      <td>14868</td>\n",
       "      <td>683</td>\n",
       "      <td>952</td>\n",
       "      <td>20562.37</td>\n",
       "      <td>597.39</td>\n",
       "      <td>0</td>\n",
       "      <td>1</td>\n",
       "      <td>0</td>\n",
       "      <td>112417.57</td>\n",
       "    </tr>\n",
       "  </tbody>\n",
       "</table>\n",
       "</div>"
      ],
      "text/plain": [
       "    DATE    WEEKDAY  LOW.TEMP  HIGH.TEMP  PRECIP  DayPass  GoldZoneRev  \\\n",
       "0  25May     Monday        40         58     0.0     3642     28034.42   \n",
       "1  26May    Tuesday        52         70     0.0     3182     23767.15   \n",
       "2  27May  Wednesday        53         77     0.0     1983     14833.90   \n",
       "3  28May   Thursday        62         86     0.0     3600     26461.20   \n",
       "4  29May     Friday        46         78     NaN     3280     24557.22   \n",
       "\n",
       "   RidePax  TShirts  LobsterRolls  SnackShack  StaffHours  FirstAid  \\\n",
       "0    16471      950          1729    22678.03      660.53         2   \n",
       "1    14287      781           410    19827.31      551.23         2   \n",
       "2     9005      332           343    12341.85      427.60         4   \n",
       "3    16244     1050          1418    22678.48      702.52         1   \n",
       "4    14868      683           952    20562.37      597.39         0   \n",
       "\n",
       "   MaineStatus  Event  TotalRevenue  \n",
       "0            1      0     139359.29  \n",
       "1            1      0     103543.62  \n",
       "2            1      2      62761.28  \n",
       "3            1      1     134613.21  \n",
       "4            1      0     112417.57  "
      ]
     },
     "execution_count": 3,
     "metadata": {},
     "output_type": "execute_result"
    }
   ],
   "source": [
    "lobsterland.head()"
   ]
  },
  {
   "cell_type": "markdown",
   "metadata": {},
   "source": [
    "#### B. How many rows of the dataset are visible in Jupyter now? \n",
    "The head() function shows the first 5 rows.\n"
   ]
  },
  {
   "cell_type": "markdown",
   "metadata": {},
   "source": [
    "#### C. Take a look at lobsterland’s shape attribute. How many rows, and how many columns, are in this entire dataframe?"
   ]
  },
  {
   "cell_type": "code",
   "execution_count": 4,
   "metadata": {},
   "outputs": [
    {
     "name": "stdout",
     "output_type": "stream",
     "text": [
      "<class 'pandas.core.frame.DataFrame'>\n",
      "RangeIndex: 106 entries, 0 to 105\n",
      "Data columns (total 16 columns):\n",
      " #   Column        Non-Null Count  Dtype  \n",
      "---  ------        --------------  -----  \n",
      " 0   DATE          106 non-null    object \n",
      " 1   WEEKDAY       106 non-null    object \n",
      " 2   LOW.TEMP      106 non-null    int64  \n",
      " 3   HIGH.TEMP     106 non-null    int64  \n",
      " 4   PRECIP        102 non-null    float64\n",
      " 5   DayPass       106 non-null    int64  \n",
      " 6   GoldZoneRev   100 non-null    float64\n",
      " 7   RidePax       106 non-null    int64  \n",
      " 8   TShirts       106 non-null    int64  \n",
      " 9   LobsterRolls  106 non-null    int64  \n",
      " 10  SnackShack    106 non-null    float64\n",
      " 11  StaffHours    106 non-null    float64\n",
      " 12  FirstAid      106 non-null    int64  \n",
      " 13  MaineStatus   106 non-null    int64  \n",
      " 14  Event         106 non-null    int64  \n",
      " 15  TotalRevenue  106 non-null    float64\n",
      "dtypes: float64(5), int64(9), object(2)\n",
      "memory usage: 13.4+ KB\n"
     ]
    }
   ],
   "source": [
    "lobsterland.info()"
   ]
  },
  {
   "cell_type": "code",
   "execution_count": 5,
   "metadata": {},
   "outputs": [
    {
     "data": {
      "text/plain": [
       "(106, 16)"
      ]
     },
     "execution_count": 5,
     "metadata": {},
     "output_type": "execute_result"
    }
   ],
   "source": [
    "lobsterland.shape"
   ]
  },
  {
   "cell_type": "markdown",
   "metadata": {},
   "source": [
    "The Lobsterland dataset has 106 rows and 16 columns. "
   ]
  },
  {
   "cell_type": "markdown",
   "metadata": {},
   "source": [
    "#### D. In a single line of code, use the groupby() function to organize the dataset by days of the week, and use the describe() function to view summary statistics about how Total Daily Revenue varies by day of week."
   ]
  },
  {
   "cell_type": "code",
   "execution_count": 6,
   "metadata": {},
   "outputs": [
    {
     "data": {
      "text/html": [
       "<div>\n",
       "<style scoped>\n",
       "    .dataframe tbody tr th:only-of-type {\n",
       "        vertical-align: middle;\n",
       "    }\n",
       "\n",
       "    .dataframe tbody tr th {\n",
       "        vertical-align: top;\n",
       "    }\n",
       "\n",
       "    .dataframe thead th {\n",
       "        text-align: right;\n",
       "    }\n",
       "</style>\n",
       "<table border=\"1\" class=\"dataframe\">\n",
       "  <thead>\n",
       "    <tr style=\"text-align: right;\">\n",
       "      <th></th>\n",
       "      <th>count</th>\n",
       "      <th>mean</th>\n",
       "      <th>std</th>\n",
       "      <th>min</th>\n",
       "      <th>25%</th>\n",
       "      <th>50%</th>\n",
       "      <th>75%</th>\n",
       "      <th>max</th>\n",
       "    </tr>\n",
       "    <tr>\n",
       "      <th>WEEKDAY</th>\n",
       "      <th></th>\n",
       "      <th></th>\n",
       "      <th></th>\n",
       "      <th></th>\n",
       "      <th></th>\n",
       "      <th></th>\n",
       "      <th></th>\n",
       "      <th></th>\n",
       "    </tr>\n",
       "  </thead>\n",
       "  <tbody>\n",
       "    <tr>\n",
       "      <th>Monday</th>\n",
       "      <td>16.0</td>\n",
       "      <td>96449.813750</td>\n",
       "      <td>53984.971936</td>\n",
       "      <td>49130.38</td>\n",
       "      <td>63036.1675</td>\n",
       "      <td>82258.27</td>\n",
       "      <td>110258.7575</td>\n",
       "      <td>269809.57</td>\n",
       "    </tr>\n",
       "    <tr>\n",
       "      <th>Tuesday</th>\n",
       "      <td>15.0</td>\n",
       "      <td>86126.008000</td>\n",
       "      <td>26050.565339</td>\n",
       "      <td>46421.47</td>\n",
       "      <td>68512.7850</td>\n",
       "      <td>84014.56</td>\n",
       "      <td>101417.1200</td>\n",
       "      <td>137817.75</td>\n",
       "    </tr>\n",
       "    <tr>\n",
       "      <th>Wednesday</th>\n",
       "      <td>15.0</td>\n",
       "      <td>84117.602667</td>\n",
       "      <td>22106.686279</td>\n",
       "      <td>38958.76</td>\n",
       "      <td>68615.7850</td>\n",
       "      <td>84772.22</td>\n",
       "      <td>98515.3150</td>\n",
       "      <td>119058.17</td>\n",
       "    </tr>\n",
       "    <tr>\n",
       "      <th>Thursday</th>\n",
       "      <td>15.0</td>\n",
       "      <td>95630.228667</td>\n",
       "      <td>26651.418811</td>\n",
       "      <td>53665.88</td>\n",
       "      <td>71863.1150</td>\n",
       "      <td>97429.95</td>\n",
       "      <td>114155.3750</td>\n",
       "      <td>136262.71</td>\n",
       "    </tr>\n",
       "    <tr>\n",
       "      <th>Friday</th>\n",
       "      <td>15.0</td>\n",
       "      <td>132369.060000</td>\n",
       "      <td>24588.576529</td>\n",
       "      <td>98882.20</td>\n",
       "      <td>114913.5800</td>\n",
       "      <td>125429.68</td>\n",
       "      <td>139120.2900</td>\n",
       "      <td>178007.92</td>\n",
       "    </tr>\n",
       "    <tr>\n",
       "      <th>Saturday</th>\n",
       "      <td>15.0</td>\n",
       "      <td>131738.331333</td>\n",
       "      <td>26974.811264</td>\n",
       "      <td>98764.47</td>\n",
       "      <td>110913.0150</td>\n",
       "      <td>132357.98</td>\n",
       "      <td>141362.4450</td>\n",
       "      <td>205921.43</td>\n",
       "    </tr>\n",
       "    <tr>\n",
       "      <th>Sunday</th>\n",
       "      <td>15.0</td>\n",
       "      <td>141114.192000</td>\n",
       "      <td>26073.822524</td>\n",
       "      <td>106479.28</td>\n",
       "      <td>119541.2300</td>\n",
       "      <td>141902.30</td>\n",
       "      <td>152939.5750</td>\n",
       "      <td>202122.37</td>\n",
       "    </tr>\n",
       "  </tbody>\n",
       "</table>\n",
       "</div>"
      ],
      "text/plain": [
       "           count           mean           std        min          25%  \\\n",
       "WEEKDAY                                                                 \n",
       "Monday      16.0   96449.813750  53984.971936   49130.38   63036.1675   \n",
       "Tuesday     15.0   86126.008000  26050.565339   46421.47   68512.7850   \n",
       "Wednesday   15.0   84117.602667  22106.686279   38958.76   68615.7850   \n",
       "Thursday    15.0   95630.228667  26651.418811   53665.88   71863.1150   \n",
       "Friday      15.0  132369.060000  24588.576529   98882.20  114913.5800   \n",
       "Saturday    15.0  131738.331333  26974.811264   98764.47  110913.0150   \n",
       "Sunday      15.0  141114.192000  26073.822524  106479.28  119541.2300   \n",
       "\n",
       "                 50%          75%        max  \n",
       "WEEKDAY                                       \n",
       "Monday      82258.27  110258.7575  269809.57  \n",
       "Tuesday     84014.56  101417.1200  137817.75  \n",
       "Wednesday   84772.22   98515.3150  119058.17  \n",
       "Thursday    97429.95  114155.3750  136262.71  \n",
       "Friday     125429.68  139120.2900  178007.92  \n",
       "Saturday   132357.98  141362.4450  205921.43  \n",
       "Sunday     141902.30  152939.5750  202122.37  "
      ]
     },
     "execution_count": 6,
     "metadata": {},
     "output_type": "execute_result"
    }
   ],
   "source": [
    "lobsterland.groupby('WEEKDAY', sort = False).TotalRevenue.describe()"
   ]
  },
  {
   "cell_type": "markdown",
   "metadata": {},
   "source": [
    "Here, the weekends have higher average revenue as compared to the weekdays which seems likely since people prefer going out on weekends. Additionally, it can be seen that the lowest revenue earned is on Wednesdays while the maximum revenue earned is on Mondays. This seems strange given that the highest average revenue falls on weekends (Friday, Saturday, Sunday). "
   ]
  },
  {
   "cell_type": "markdown",
   "metadata": {},
   "source": [
    "#### E. In this analysis, we will not use the variable LOW.TEMP. Remove this variable from your dataframe, and use another line of code to show that the variable is “really” gone. "
   ]
  },
  {
   "cell_type": "code",
   "execution_count": 7,
   "metadata": {},
   "outputs": [
    {
     "data": {
      "text/html": [
       "<div>\n",
       "<style scoped>\n",
       "    .dataframe tbody tr th:only-of-type {\n",
       "        vertical-align: middle;\n",
       "    }\n",
       "\n",
       "    .dataframe tbody tr th {\n",
       "        vertical-align: top;\n",
       "    }\n",
       "\n",
       "    .dataframe thead th {\n",
       "        text-align: right;\n",
       "    }\n",
       "</style>\n",
       "<table border=\"1\" class=\"dataframe\">\n",
       "  <thead>\n",
       "    <tr style=\"text-align: right;\">\n",
       "      <th></th>\n",
       "      <th>DATE</th>\n",
       "      <th>WEEKDAY</th>\n",
       "      <th>HIGH.TEMP</th>\n",
       "      <th>PRECIP</th>\n",
       "      <th>DayPass</th>\n",
       "      <th>GoldZoneRev</th>\n",
       "      <th>RidePax</th>\n",
       "      <th>TShirts</th>\n",
       "      <th>LobsterRolls</th>\n",
       "      <th>SnackShack</th>\n",
       "      <th>StaffHours</th>\n",
       "      <th>FirstAid</th>\n",
       "      <th>MaineStatus</th>\n",
       "      <th>Event</th>\n",
       "      <th>TotalRevenue</th>\n",
       "    </tr>\n",
       "  </thead>\n",
       "  <tbody>\n",
       "    <tr>\n",
       "      <th>0</th>\n",
       "      <td>25May</td>\n",
       "      <td>Monday</td>\n",
       "      <td>58</td>\n",
       "      <td>0.0</td>\n",
       "      <td>3642</td>\n",
       "      <td>28034.42</td>\n",
       "      <td>16471</td>\n",
       "      <td>950</td>\n",
       "      <td>1729</td>\n",
       "      <td>22678.03</td>\n",
       "      <td>660.53</td>\n",
       "      <td>2</td>\n",
       "      <td>1</td>\n",
       "      <td>0</td>\n",
       "      <td>139359.29</td>\n",
       "    </tr>\n",
       "    <tr>\n",
       "      <th>1</th>\n",
       "      <td>26May</td>\n",
       "      <td>Tuesday</td>\n",
       "      <td>70</td>\n",
       "      <td>0.0</td>\n",
       "      <td>3182</td>\n",
       "      <td>23767.15</td>\n",
       "      <td>14287</td>\n",
       "      <td>781</td>\n",
       "      <td>410</td>\n",
       "      <td>19827.31</td>\n",
       "      <td>551.23</td>\n",
       "      <td>2</td>\n",
       "      <td>1</td>\n",
       "      <td>0</td>\n",
       "      <td>103543.62</td>\n",
       "    </tr>\n",
       "    <tr>\n",
       "      <th>2</th>\n",
       "      <td>27May</td>\n",
       "      <td>Wednesday</td>\n",
       "      <td>77</td>\n",
       "      <td>0.0</td>\n",
       "      <td>1983</td>\n",
       "      <td>14833.90</td>\n",
       "      <td>9005</td>\n",
       "      <td>332</td>\n",
       "      <td>343</td>\n",
       "      <td>12341.85</td>\n",
       "      <td>427.60</td>\n",
       "      <td>4</td>\n",
       "      <td>1</td>\n",
       "      <td>2</td>\n",
       "      <td>62761.28</td>\n",
       "    </tr>\n",
       "    <tr>\n",
       "      <th>3</th>\n",
       "      <td>28May</td>\n",
       "      <td>Thursday</td>\n",
       "      <td>86</td>\n",
       "      <td>0.0</td>\n",
       "      <td>3600</td>\n",
       "      <td>26461.20</td>\n",
       "      <td>16244</td>\n",
       "      <td>1050</td>\n",
       "      <td>1418</td>\n",
       "      <td>22678.48</td>\n",
       "      <td>702.52</td>\n",
       "      <td>1</td>\n",
       "      <td>1</td>\n",
       "      <td>1</td>\n",
       "      <td>134613.21</td>\n",
       "    </tr>\n",
       "    <tr>\n",
       "      <th>4</th>\n",
       "      <td>29May</td>\n",
       "      <td>Friday</td>\n",
       "      <td>78</td>\n",
       "      <td>NaN</td>\n",
       "      <td>3280</td>\n",
       "      <td>24557.22</td>\n",
       "      <td>14868</td>\n",
       "      <td>683</td>\n",
       "      <td>952</td>\n",
       "      <td>20562.37</td>\n",
       "      <td>597.39</td>\n",
       "      <td>0</td>\n",
       "      <td>1</td>\n",
       "      <td>0</td>\n",
       "      <td>112417.57</td>\n",
       "    </tr>\n",
       "    <tr>\n",
       "      <th>...</th>\n",
       "      <td>...</td>\n",
       "      <td>...</td>\n",
       "      <td>...</td>\n",
       "      <td>...</td>\n",
       "      <td>...</td>\n",
       "      <td>...</td>\n",
       "      <td>...</td>\n",
       "      <td>...</td>\n",
       "      <td>...</td>\n",
       "      <td>...</td>\n",
       "      <td>...</td>\n",
       "      <td>...</td>\n",
       "      <td>...</td>\n",
       "      <td>...</td>\n",
       "      <td>...</td>\n",
       "    </tr>\n",
       "    <tr>\n",
       "      <th>101</th>\n",
       "      <td>03Sep</td>\n",
       "      <td>Thursday</td>\n",
       "      <td>75</td>\n",
       "      <td>0.0</td>\n",
       "      <td>3006</td>\n",
       "      <td>22638.71</td>\n",
       "      <td>13402</td>\n",
       "      <td>555</td>\n",
       "      <td>590</td>\n",
       "      <td>18749.60</td>\n",
       "      <td>639.80</td>\n",
       "      <td>2</td>\n",
       "      <td>3</td>\n",
       "      <td>1</td>\n",
       "      <td>97429.95</td>\n",
       "    </tr>\n",
       "    <tr>\n",
       "      <th>102</th>\n",
       "      <td>04Sep</td>\n",
       "      <td>Friday</td>\n",
       "      <td>86</td>\n",
       "      <td>0.0</td>\n",
       "      <td>3498</td>\n",
       "      <td>26141.10</td>\n",
       "      <td>15771</td>\n",
       "      <td>1038</td>\n",
       "      <td>972</td>\n",
       "      <td>21978.52</td>\n",
       "      <td>690.38</td>\n",
       "      <td>4</td>\n",
       "      <td>3</td>\n",
       "      <td>0</td>\n",
       "      <td>125429.68</td>\n",
       "    </tr>\n",
       "    <tr>\n",
       "      <th>103</th>\n",
       "      <td>05Sep</td>\n",
       "      <td>Saturday</td>\n",
       "      <td>79</td>\n",
       "      <td>0.0</td>\n",
       "      <td>4026</td>\n",
       "      <td>30864.66</td>\n",
       "      <td>18142</td>\n",
       "      <td>1055</td>\n",
       "      <td>1985</td>\n",
       "      <td>24981.70</td>\n",
       "      <td>851.43</td>\n",
       "      <td>4</td>\n",
       "      <td>3</td>\n",
       "      <td>0</td>\n",
       "      <td>155040.50</td>\n",
       "    </tr>\n",
       "    <tr>\n",
       "      <th>104</th>\n",
       "      <td>06Sep</td>\n",
       "      <td>Sunday</td>\n",
       "      <td>76</td>\n",
       "      <td>0.0</td>\n",
       "      <td>3910</td>\n",
       "      <td>29531.43</td>\n",
       "      <td>17508</td>\n",
       "      <td>916</td>\n",
       "      <td>1522</td>\n",
       "      <td>24310.62</td>\n",
       "      <td>724.45</td>\n",
       "      <td>5</td>\n",
       "      <td>3</td>\n",
       "      <td>0</td>\n",
       "      <td>141902.30</td>\n",
       "    </tr>\n",
       "    <tr>\n",
       "      <th>105</th>\n",
       "      <td>07Sep</td>\n",
       "      <td>Monday</td>\n",
       "      <td>76</td>\n",
       "      <td>0.0</td>\n",
       "      <td>3335</td>\n",
       "      <td>24878.30</td>\n",
       "      <td>15000</td>\n",
       "      <td>844</td>\n",
       "      <td>1523</td>\n",
       "      <td>20799.87</td>\n",
       "      <td>735.25</td>\n",
       "      <td>3</td>\n",
       "      <td>3</td>\n",
       "      <td>0</td>\n",
       "      <td>125428.22</td>\n",
       "    </tr>\n",
       "  </tbody>\n",
       "</table>\n",
       "<p>106 rows × 15 columns</p>\n",
       "</div>"
      ],
      "text/plain": [
       "      DATE    WEEKDAY  HIGH.TEMP  PRECIP  DayPass  GoldZoneRev  RidePax  \\\n",
       "0    25May     Monday         58     0.0     3642     28034.42    16471   \n",
       "1    26May    Tuesday         70     0.0     3182     23767.15    14287   \n",
       "2    27May  Wednesday         77     0.0     1983     14833.90     9005   \n",
       "3    28May   Thursday         86     0.0     3600     26461.20    16244   \n",
       "4    29May     Friday         78     NaN     3280     24557.22    14868   \n",
       "..     ...        ...        ...     ...      ...          ...      ...   \n",
       "101  03Sep   Thursday         75     0.0     3006     22638.71    13402   \n",
       "102  04Sep     Friday         86     0.0     3498     26141.10    15771   \n",
       "103  05Sep   Saturday         79     0.0     4026     30864.66    18142   \n",
       "104  06Sep     Sunday         76     0.0     3910     29531.43    17508   \n",
       "105  07Sep     Monday         76     0.0     3335     24878.30    15000   \n",
       "\n",
       "     TShirts  LobsterRolls  SnackShack  StaffHours  FirstAid  MaineStatus  \\\n",
       "0        950          1729    22678.03      660.53         2            1   \n",
       "1        781           410    19827.31      551.23         2            1   \n",
       "2        332           343    12341.85      427.60         4            1   \n",
       "3       1050          1418    22678.48      702.52         1            1   \n",
       "4        683           952    20562.37      597.39         0            1   \n",
       "..       ...           ...         ...         ...       ...          ...   \n",
       "101      555           590    18749.60      639.80         2            3   \n",
       "102     1038           972    21978.52      690.38         4            3   \n",
       "103     1055          1985    24981.70      851.43         4            3   \n",
       "104      916          1522    24310.62      724.45         5            3   \n",
       "105      844          1523    20799.87      735.25         3            3   \n",
       "\n",
       "     Event  TotalRevenue  \n",
       "0        0     139359.29  \n",
       "1        0     103543.62  \n",
       "2        2      62761.28  \n",
       "3        1     134613.21  \n",
       "4        0     112417.57  \n",
       "..     ...           ...  \n",
       "101      1      97429.95  \n",
       "102      0     125429.68  \n",
       "103      0     155040.50  \n",
       "104      0     141902.30  \n",
       "105      0     125428.22  \n",
       "\n",
       "[106 rows x 15 columns]"
      ]
     },
     "execution_count": 7,
     "metadata": {},
     "output_type": "execute_result"
    }
   ],
   "source": [
    "del lobsterland['LOW.TEMP']\n",
    "lobsterland"
   ]
  },
  {
   "cell_type": "markdown",
   "metadata": {},
   "source": [
    "#### F. Are there any missing values in this dataset? Use Python code to answer this question.\n",
    "##### a. If there are missing values in the ‘Precip’ column, replace those with 0.\n",
    "##### b. If there are missing values in the GoldZoneRev column, replace those values with a suitable centrality measure (e.g. mean or median) based on the particular day of the week for which the values are missing."
   ]
  },
  {
   "cell_type": "code",
   "execution_count": 8,
   "metadata": {
    "scrolled": true
   },
   "outputs": [
    {
     "name": "stdout",
     "output_type": "stream",
     "text": [
      "DATE            0\n",
      "WEEKDAY         0\n",
      "HIGH.TEMP       0\n",
      "PRECIP          4\n",
      "DayPass         0\n",
      "GoldZoneRev     6\n",
      "RidePax         0\n",
      "TShirts         0\n",
      "LobsterRolls    0\n",
      "SnackShack      0\n",
      "StaffHours      0\n",
      "FirstAid        0\n",
      "MaineStatus     0\n",
      "Event           0\n",
      "TotalRevenue    0\n",
      "dtype: int64\n"
     ]
    }
   ],
   "source": [
    "print(lobsterland.isnull().sum())"
   ]
  },
  {
   "cell_type": "code",
   "execution_count": 9,
   "metadata": {
    "scrolled": true
   },
   "outputs": [],
   "source": [
    "lobsterland['PRECIP'].fillna(value = 0, inplace = True)"
   ]
  },
  {
   "cell_type": "code",
   "execution_count": 10,
   "metadata": {},
   "outputs": [
    {
     "data": {
      "text/plain": [
       "0      0.0\n",
       "1      0.0\n",
       "2      0.0\n",
       "3      0.0\n",
       "4      0.0\n",
       "      ... \n",
       "101    0.0\n",
       "102    0.0\n",
       "103    0.0\n",
       "104    0.0\n",
       "105    0.0\n",
       "Name: PRECIP, Length: 106, dtype: float64"
      ]
     },
     "execution_count": 10,
     "metadata": {},
     "output_type": "execute_result"
    }
   ],
   "source": [
    "lobsterland['PRECIP']"
   ]
  },
  {
   "cell_type": "code",
   "execution_count": 11,
   "metadata": {},
   "outputs": [
    {
     "name": "stdout",
     "output_type": "stream",
     "text": [
      "DATE            0\n",
      "WEEKDAY         0\n",
      "HIGH.TEMP       0\n",
      "PRECIP          0\n",
      "DayPass         0\n",
      "GoldZoneRev     6\n",
      "RidePax         0\n",
      "TShirts         0\n",
      "LobsterRolls    0\n",
      "SnackShack      0\n",
      "StaffHours      0\n",
      "FirstAid        0\n",
      "MaineStatus     0\n",
      "Event           0\n",
      "TotalRevenue    0\n",
      "dtype: int64\n"
     ]
    }
   ],
   "source": [
    "print(lobsterland.isnull().sum())"
   ]
  },
  {
   "cell_type": "code",
   "execution_count": 16,
   "metadata": {},
   "outputs": [],
   "source": [
    "GoldZoneRevDay = lobsterland.groupby('WEEKDAY', sort= True).GoldZoneRev.mean()"
   ]
  },
  {
   "cell_type": "code",
   "execution_count": 28,
   "metadata": {},
   "outputs": [],
   "source": [
    "for index, row in lobsterland.iterrows():\n",
    "  if pd.isnull(lobsterland.loc[index, \"GoldZoneRev\"]):\n",
    "    weekday = row[\"WEEKDAY\"]\n",
    "    lobsterland.loc[index, \"GoldZoneRev\"] = GoldZoneRevDay[weekday]"
   ]
  },
  {
   "cell_type": "code",
   "execution_count": 18,
   "metadata": {},
   "outputs": [
    {
     "name": "stdout",
     "output_type": "stream",
     "text": [
      "DATE            0\n",
      "WEEKDAY         0\n",
      "HIGH.TEMP       0\n",
      "PRECIP          0\n",
      "DayPass         0\n",
      "GoldZoneRev     0\n",
      "RidePax         0\n",
      "TShirts         0\n",
      "LobsterRolls    0\n",
      "SnackShack      0\n",
      "StaffHours      0\n",
      "FirstAid        0\n",
      "MaineStatus     0\n",
      "Event           0\n",
      "TotalRevenue    0\n",
      "dtype: int64\n"
     ]
    }
   ],
   "source": [
    "print(lobsterland.isnull().sum())"
   ]
  },
  {
   "cell_type": "markdown",
   "metadata": {},
   "source": [
    "###### How did you know whether there were any missing values?\n",
    " \n",
    "Using the isnull.sum() function, I found the sum of number of missing / NA values in each column which helped in further replacing or removing those values. \n",
    "\n",
    "###### Why does it make sense to replace the missing values for the GoldZone revenue with the average for a particular day of the week, rather than an overall average? What is the impact of doing this, and why is it sensible to take this approach for GoldZone revenue, but not for precipitation?\n",
    "\n",
    "Replacing the GoldZoneRev by mean of each day was better option since Gold Zone Revenue is the dollar amount generated for a particular day. Hence, replacing a null value in that variable by a the average of the day's revenue would yield better results. For precipitation, replacing the amount of rainfall by 0 made for sense because the chances of rain will be similar in summer season unless there is drastic change in the weather. Generally, during summer season the precipitation is closer to 0. "
   ]
  },
  {
   "cell_type": "markdown",
   "metadata": {},
   "source": [
    "#### G. What were the five rainiest days of the 2020 season? Create a separate dataframe with just these five days in it, and then take a look at summary stats for that dataframe."
   ]
  },
  {
   "cell_type": "code",
   "execution_count": 19,
   "metadata": {},
   "outputs": [
    {
     "data": {
      "text/html": [
       "<div>\n",
       "<style scoped>\n",
       "    .dataframe tbody tr th:only-of-type {\n",
       "        vertical-align: middle;\n",
       "    }\n",
       "\n",
       "    .dataframe tbody tr th {\n",
       "        vertical-align: top;\n",
       "    }\n",
       "\n",
       "    .dataframe thead th {\n",
       "        text-align: right;\n",
       "    }\n",
       "</style>\n",
       "<table border=\"1\" class=\"dataframe\">\n",
       "  <thead>\n",
       "    <tr style=\"text-align: right;\">\n",
       "      <th></th>\n",
       "      <th>DATE</th>\n",
       "      <th>WEEKDAY</th>\n",
       "      <th>HIGH.TEMP</th>\n",
       "      <th>PRECIP</th>\n",
       "      <th>DayPass</th>\n",
       "      <th>GoldZoneRev</th>\n",
       "      <th>RidePax</th>\n",
       "      <th>TShirts</th>\n",
       "      <th>LobsterRolls</th>\n",
       "      <th>SnackShack</th>\n",
       "      <th>StaffHours</th>\n",
       "      <th>FirstAid</th>\n",
       "      <th>MaineStatus</th>\n",
       "      <th>Event</th>\n",
       "      <th>TotalRevenue</th>\n",
       "    </tr>\n",
       "  </thead>\n",
       "  <tbody>\n",
       "    <tr>\n",
       "      <th>35</th>\n",
       "      <td>29Jun</td>\n",
       "      <td>Monday</td>\n",
       "      <td>67</td>\n",
       "      <td>2.51</td>\n",
       "      <td>4320</td>\n",
       "      <td>39710.27</td>\n",
       "      <td>1927</td>\n",
       "      <td>1003</td>\n",
       "      <td>798</td>\n",
       "      <td>27099.58</td>\n",
       "      <td>921.15</td>\n",
       "      <td>1</td>\n",
       "      <td>2</td>\n",
       "      <td>0</td>\n",
       "      <td>269809.57</td>\n",
       "    </tr>\n",
       "    <tr>\n",
       "      <th>96</th>\n",
       "      <td>29Aug</td>\n",
       "      <td>Saturday</td>\n",
       "      <td>66</td>\n",
       "      <td>1.28</td>\n",
       "      <td>3087</td>\n",
       "      <td>34398.02</td>\n",
       "      <td>1382</td>\n",
       "      <td>662</td>\n",
       "      <td>1057</td>\n",
       "      <td>19379.96</td>\n",
       "      <td>626.56</td>\n",
       "      <td>4</td>\n",
       "      <td>3</td>\n",
       "      <td>0</td>\n",
       "      <td>205921.43</td>\n",
       "    </tr>\n",
       "    <tr>\n",
       "      <th>50</th>\n",
       "      <td>14Jul</td>\n",
       "      <td>Tuesday</td>\n",
       "      <td>82</td>\n",
       "      <td>0.62</td>\n",
       "      <td>1947</td>\n",
       "      <td>14698.75</td>\n",
       "      <td>4385</td>\n",
       "      <td>381</td>\n",
       "      <td>898</td>\n",
       "      <td>12162.48</td>\n",
       "      <td>396.36</td>\n",
       "      <td>1</td>\n",
       "      <td>3</td>\n",
       "      <td>0</td>\n",
       "      <td>71327.06</td>\n",
       "    </tr>\n",
       "    <tr>\n",
       "      <th>81</th>\n",
       "      <td>14Aug</td>\n",
       "      <td>Friday</td>\n",
       "      <td>88</td>\n",
       "      <td>0.62</td>\n",
       "      <td>3518</td>\n",
       "      <td>26174.11</td>\n",
       "      <td>7899</td>\n",
       "      <td>743</td>\n",
       "      <td>1793</td>\n",
       "      <td>21958.61</td>\n",
       "      <td>633.34</td>\n",
       "      <td>2</td>\n",
       "      <td>3</td>\n",
       "      <td>0</td>\n",
       "      <td>132092.23</td>\n",
       "    </tr>\n",
       "    <tr>\n",
       "      <th>44</th>\n",
       "      <td>08Jul</td>\n",
       "      <td>Wednesday</td>\n",
       "      <td>82</td>\n",
       "      <td>0.52</td>\n",
       "      <td>2909</td>\n",
       "      <td>22247.88</td>\n",
       "      <td>6571</td>\n",
       "      <td>573</td>\n",
       "      <td>1199</td>\n",
       "      <td>18222.42</td>\n",
       "      <td>603.49</td>\n",
       "      <td>2</td>\n",
       "      <td>3</td>\n",
       "      <td>0</td>\n",
       "      <td>104822.39</td>\n",
       "    </tr>\n",
       "  </tbody>\n",
       "</table>\n",
       "</div>"
      ],
      "text/plain": [
       "     DATE    WEEKDAY  HIGH.TEMP  PRECIP  DayPass  GoldZoneRev  RidePax  \\\n",
       "35  29Jun     Monday         67    2.51     4320     39710.27     1927   \n",
       "96  29Aug   Saturday         66    1.28     3087     34398.02     1382   \n",
       "50  14Jul    Tuesday         82    0.62     1947     14698.75     4385   \n",
       "81  14Aug     Friday         88    0.62     3518     26174.11     7899   \n",
       "44  08Jul  Wednesday         82    0.52     2909     22247.88     6571   \n",
       "\n",
       "    TShirts  LobsterRolls  SnackShack  StaffHours  FirstAid  MaineStatus  \\\n",
       "35     1003           798    27099.58      921.15         1            2   \n",
       "96      662          1057    19379.96      626.56         4            3   \n",
       "50      381           898    12162.48      396.36         1            3   \n",
       "81      743          1793    21958.61      633.34         2            3   \n",
       "44      573          1199    18222.42      603.49         2            3   \n",
       "\n",
       "    Event  TotalRevenue  \n",
       "35      0     269809.57  \n",
       "96      0     205921.43  \n",
       "50      0      71327.06  \n",
       "81      0     132092.23  \n",
       "44      0     104822.39  "
      ]
     },
     "execution_count": 19,
     "metadata": {},
     "output_type": "execute_result"
    }
   ],
   "source": [
    "Top5_RainyDay = lobsterland.nlargest(5,['PRECIP'])\n",
    "Top5_RainyDay"
   ]
  },
  {
   "cell_type": "code",
   "execution_count": 32,
   "metadata": {
    "scrolled": true
   },
   "outputs": [
    {
     "data": {
      "text/html": [
       "<div>\n",
       "<style scoped>\n",
       "    .dataframe tbody tr th:only-of-type {\n",
       "        vertical-align: middle;\n",
       "    }\n",
       "\n",
       "    .dataframe tbody tr th {\n",
       "        vertical-align: top;\n",
       "    }\n",
       "\n",
       "    .dataframe thead th {\n",
       "        text-align: right;\n",
       "    }\n",
       "</style>\n",
       "<table border=\"1\" class=\"dataframe\">\n",
       "  <thead>\n",
       "    <tr style=\"text-align: right;\">\n",
       "      <th></th>\n",
       "      <th>LOW.TEMP</th>\n",
       "      <th>HIGH.TEMP</th>\n",
       "      <th>PRECIP</th>\n",
       "      <th>DayPass</th>\n",
       "      <th>GoldZoneRev</th>\n",
       "      <th>RidePax</th>\n",
       "      <th>TShirts</th>\n",
       "      <th>LobsterRolls</th>\n",
       "      <th>SnackShack</th>\n",
       "      <th>StaffHours</th>\n",
       "      <th>FirstAid</th>\n",
       "      <th>MaineStatus</th>\n",
       "      <th>Event</th>\n",
       "      <th>TotalRevenue</th>\n",
       "    </tr>\n",
       "  </thead>\n",
       "  <tbody>\n",
       "    <tr>\n",
       "      <th>count</th>\n",
       "      <td>5.000000</td>\n",
       "      <td>5.000000</td>\n",
       "      <td>5.000000</td>\n",
       "      <td>5.000000</td>\n",
       "      <td>5.00000</td>\n",
       "      <td>5.000000</td>\n",
       "      <td>5.00000</td>\n",
       "      <td>5.000000</td>\n",
       "      <td>5.000000</td>\n",
       "      <td>5.000000</td>\n",
       "      <td>5.000000</td>\n",
       "      <td>5.000000</td>\n",
       "      <td>5.0</td>\n",
       "      <td>5.000000</td>\n",
       "    </tr>\n",
       "    <tr>\n",
       "      <th>mean</th>\n",
       "      <td>62.600000</td>\n",
       "      <td>77.000000</td>\n",
       "      <td>1.110000</td>\n",
       "      <td>3156.200000</td>\n",
       "      <td>27445.80600</td>\n",
       "      <td>4432.800000</td>\n",
       "      <td>672.40000</td>\n",
       "      <td>1149.000000</td>\n",
       "      <td>19764.610000</td>\n",
       "      <td>636.180000</td>\n",
       "      <td>2.000000</td>\n",
       "      <td>2.800000</td>\n",
       "      <td>0.0</td>\n",
       "      <td>156794.536000</td>\n",
       "    </tr>\n",
       "    <tr>\n",
       "      <th>std</th>\n",
       "      <td>2.966479</td>\n",
       "      <td>9.899495</td>\n",
       "      <td>0.839226</td>\n",
       "      <td>867.956047</td>\n",
       "      <td>9872.60653</td>\n",
       "      <td>2836.156766</td>\n",
       "      <td>228.68275</td>\n",
       "      <td>391.120825</td>\n",
       "      <td>5452.845749</td>\n",
       "      <td>187.009879</td>\n",
       "      <td>1.224745</td>\n",
       "      <td>0.447214</td>\n",
       "      <td>0.0</td>\n",
       "      <td>80314.766636</td>\n",
       "    </tr>\n",
       "    <tr>\n",
       "      <th>min</th>\n",
       "      <td>59.000000</td>\n",
       "      <td>66.000000</td>\n",
       "      <td>0.520000</td>\n",
       "      <td>1947.000000</td>\n",
       "      <td>14698.75000</td>\n",
       "      <td>1382.000000</td>\n",
       "      <td>381.00000</td>\n",
       "      <td>798.000000</td>\n",
       "      <td>12162.480000</td>\n",
       "      <td>396.360000</td>\n",
       "      <td>1.000000</td>\n",
       "      <td>2.000000</td>\n",
       "      <td>0.0</td>\n",
       "      <td>71327.060000</td>\n",
       "    </tr>\n",
       "    <tr>\n",
       "      <th>25%</th>\n",
       "      <td>60.000000</td>\n",
       "      <td>67.000000</td>\n",
       "      <td>0.620000</td>\n",
       "      <td>2909.000000</td>\n",
       "      <td>22247.88000</td>\n",
       "      <td>1927.000000</td>\n",
       "      <td>573.00000</td>\n",
       "      <td>898.000000</td>\n",
       "      <td>18222.420000</td>\n",
       "      <td>603.490000</td>\n",
       "      <td>1.000000</td>\n",
       "      <td>3.000000</td>\n",
       "      <td>0.0</td>\n",
       "      <td>104822.390000</td>\n",
       "    </tr>\n",
       "    <tr>\n",
       "      <th>50%</th>\n",
       "      <td>64.000000</td>\n",
       "      <td>82.000000</td>\n",
       "      <td>0.620000</td>\n",
       "      <td>3087.000000</td>\n",
       "      <td>26174.11000</td>\n",
       "      <td>4385.000000</td>\n",
       "      <td>662.00000</td>\n",
       "      <td>1057.000000</td>\n",
       "      <td>19379.960000</td>\n",
       "      <td>626.560000</td>\n",
       "      <td>2.000000</td>\n",
       "      <td>3.000000</td>\n",
       "      <td>0.0</td>\n",
       "      <td>132092.230000</td>\n",
       "    </tr>\n",
       "    <tr>\n",
       "      <th>75%</th>\n",
       "      <td>64.000000</td>\n",
       "      <td>82.000000</td>\n",
       "      <td>1.280000</td>\n",
       "      <td>3518.000000</td>\n",
       "      <td>34398.02000</td>\n",
       "      <td>6571.000000</td>\n",
       "      <td>743.00000</td>\n",
       "      <td>1199.000000</td>\n",
       "      <td>21958.610000</td>\n",
       "      <td>633.340000</td>\n",
       "      <td>2.000000</td>\n",
       "      <td>3.000000</td>\n",
       "      <td>0.0</td>\n",
       "      <td>205921.430000</td>\n",
       "    </tr>\n",
       "    <tr>\n",
       "      <th>max</th>\n",
       "      <td>66.000000</td>\n",
       "      <td>88.000000</td>\n",
       "      <td>2.510000</td>\n",
       "      <td>4320.000000</td>\n",
       "      <td>39710.27000</td>\n",
       "      <td>7899.000000</td>\n",
       "      <td>1003.00000</td>\n",
       "      <td>1793.000000</td>\n",
       "      <td>27099.580000</td>\n",
       "      <td>921.150000</td>\n",
       "      <td>4.000000</td>\n",
       "      <td>3.000000</td>\n",
       "      <td>0.0</td>\n",
       "      <td>269809.570000</td>\n",
       "    </tr>\n",
       "  </tbody>\n",
       "</table>\n",
       "</div>"
      ],
      "text/plain": [
       "        LOW.TEMP  HIGH.TEMP    PRECIP      DayPass  GoldZoneRev      RidePax  \\\n",
       "count   5.000000   5.000000  5.000000     5.000000      5.00000     5.000000   \n",
       "mean   62.600000  77.000000  1.110000  3156.200000  27445.80600  4432.800000   \n",
       "std     2.966479   9.899495  0.839226   867.956047   9872.60653  2836.156766   \n",
       "min    59.000000  66.000000  0.520000  1947.000000  14698.75000  1382.000000   \n",
       "25%    60.000000  67.000000  0.620000  2909.000000  22247.88000  1927.000000   \n",
       "50%    64.000000  82.000000  0.620000  3087.000000  26174.11000  4385.000000   \n",
       "75%    64.000000  82.000000  1.280000  3518.000000  34398.02000  6571.000000   \n",
       "max    66.000000  88.000000  2.510000  4320.000000  39710.27000  7899.000000   \n",
       "\n",
       "          TShirts  LobsterRolls    SnackShack  StaffHours  FirstAid  \\\n",
       "count     5.00000      5.000000      5.000000    5.000000  5.000000   \n",
       "mean    672.40000   1149.000000  19764.610000  636.180000  2.000000   \n",
       "std     228.68275    391.120825   5452.845749  187.009879  1.224745   \n",
       "min     381.00000    798.000000  12162.480000  396.360000  1.000000   \n",
       "25%     573.00000    898.000000  18222.420000  603.490000  1.000000   \n",
       "50%     662.00000   1057.000000  19379.960000  626.560000  2.000000   \n",
       "75%     743.00000   1199.000000  21958.610000  633.340000  2.000000   \n",
       "max    1003.00000   1793.000000  27099.580000  921.150000  4.000000   \n",
       "\n",
       "       MaineStatus  Event   TotalRevenue  \n",
       "count     5.000000    5.0       5.000000  \n",
       "mean      2.800000    0.0  156794.536000  \n",
       "std       0.447214    0.0   80314.766636  \n",
       "min       2.000000    0.0   71327.060000  \n",
       "25%       3.000000    0.0  104822.390000  \n",
       "50%       3.000000    0.0  132092.230000  \n",
       "75%       3.000000    0.0  205921.430000  \n",
       "max       3.000000    0.0  269809.570000  "
      ]
     },
     "execution_count": 32,
     "metadata": {},
     "output_type": "execute_result"
    }
   ],
   "source": [
    "Top5_RainyDay.describe()"
   ]
  },
  {
   "cell_type": "markdown",
   "metadata": {},
   "source": [
    "###### Which variables seem to be heavily impacted by the weather? Explain why you think these are impacted in this way. \n",
    "\n",
    "It can be inferred from the above table that on days with high rainfall, the total number of riders is the lowest but maximum day passes are sold. Hence, the park is earning higher revenue since passes are being sold but people aren't turning up due to rainfall. Additionally, the number of TShirts being sold is also maximum which contributes to the high revenue. Also, SnackShack is has the highest sales which indicates that due to rainfall, people invested in food and merchandise."
   ]
  },
  {
   "cell_type": "markdown",
   "metadata": {},
   "source": [
    "#### H. Create a new variable called ‘efficiency’. This variable should be found by taking total daily revenue and dividing by the number of staff hours worked. Sort the dataframe to show the five most efficient days of the season, so that management can more closely review their personnel staffing for those days."
   ]
  },
  {
   "cell_type": "code",
   "execution_count": 18,
   "metadata": {},
   "outputs": [
    {
     "data": {
      "text/html": [
       "<div>\n",
       "<style scoped>\n",
       "    .dataframe tbody tr th:only-of-type {\n",
       "        vertical-align: middle;\n",
       "    }\n",
       "\n",
       "    .dataframe tbody tr th {\n",
       "        vertical-align: top;\n",
       "    }\n",
       "\n",
       "    .dataframe thead th {\n",
       "        text-align: right;\n",
       "    }\n",
       "</style>\n",
       "<table border=\"1\" class=\"dataframe\">\n",
       "  <thead>\n",
       "    <tr style=\"text-align: right;\">\n",
       "      <th></th>\n",
       "      <th>DATE</th>\n",
       "      <th>WEEKDAY</th>\n",
       "      <th>HIGH.TEMP</th>\n",
       "      <th>PRECIP</th>\n",
       "      <th>DayPass</th>\n",
       "      <th>GoldZoneRev</th>\n",
       "      <th>RidePax</th>\n",
       "      <th>TShirts</th>\n",
       "      <th>LobsterRolls</th>\n",
       "      <th>SnackShack</th>\n",
       "      <th>StaffHours</th>\n",
       "      <th>FirstAid</th>\n",
       "      <th>MaineStatus</th>\n",
       "      <th>Event</th>\n",
       "      <th>TotalRevenue</th>\n",
       "      <th>Efficiency</th>\n",
       "    </tr>\n",
       "  </thead>\n",
       "  <tbody>\n",
       "    <tr>\n",
       "      <th>96</th>\n",
       "      <td>29Aug</td>\n",
       "      <td>Saturday</td>\n",
       "      <td>66</td>\n",
       "      <td>1.28</td>\n",
       "      <td>3087</td>\n",
       "      <td>Saturday</td>\n",
       "      <td>1382</td>\n",
       "      <td>662</td>\n",
       "      <td>1057</td>\n",
       "      <td>19379.96</td>\n",
       "      <td>626.56</td>\n",
       "      <td>4</td>\n",
       "      <td>3</td>\n",
       "      <td>0</td>\n",
       "      <td>205921.43</td>\n",
       "      <td>328.653968</td>\n",
       "    </tr>\n",
       "    <tr>\n",
       "      <th>35</th>\n",
       "      <td>29Jun</td>\n",
       "      <td>Monday</td>\n",
       "      <td>67</td>\n",
       "      <td>2.51</td>\n",
       "      <td>4320</td>\n",
       "      <td>Monday</td>\n",
       "      <td>1927</td>\n",
       "      <td>1003</td>\n",
       "      <td>798</td>\n",
       "      <td>27099.58</td>\n",
       "      <td>921.15</td>\n",
       "      <td>1</td>\n",
       "      <td>2</td>\n",
       "      <td>0</td>\n",
       "      <td>269809.57</td>\n",
       "      <td>292.905140</td>\n",
       "    </tr>\n",
       "    <tr>\n",
       "      <th>21</th>\n",
       "      <td>15Jun</td>\n",
       "      <td>Monday</td>\n",
       "      <td>71</td>\n",
       "      <td>0.00</td>\n",
       "      <td>1733</td>\n",
       "      <td>Monday</td>\n",
       "      <td>7795</td>\n",
       "      <td>329</td>\n",
       "      <td>823</td>\n",
       "      <td>10797.66</td>\n",
       "      <td>243.91</td>\n",
       "      <td>5</td>\n",
       "      <td>2</td>\n",
       "      <td>0</td>\n",
       "      <td>64002.74</td>\n",
       "      <td>262.403100</td>\n",
       "    </tr>\n",
       "    <tr>\n",
       "      <th>16</th>\n",
       "      <td>10Jun</td>\n",
       "      <td>Wednesday</td>\n",
       "      <td>64</td>\n",
       "      <td>0.02</td>\n",
       "      <td>2626</td>\n",
       "      <td>Wednesday</td>\n",
       "      <td>5958</td>\n",
       "      <td>608</td>\n",
       "      <td>1187</td>\n",
       "      <td>16505.84</td>\n",
       "      <td>442.13</td>\n",
       "      <td>2</td>\n",
       "      <td>2</td>\n",
       "      <td>0</td>\n",
       "      <td>97755.26</td>\n",
       "      <td>221.100717</td>\n",
       "    </tr>\n",
       "    <tr>\n",
       "      <th>0</th>\n",
       "      <td>25May</td>\n",
       "      <td>Monday</td>\n",
       "      <td>58</td>\n",
       "      <td>0.00</td>\n",
       "      <td>3642</td>\n",
       "      <td>Monday</td>\n",
       "      <td>16471</td>\n",
       "      <td>950</td>\n",
       "      <td>1729</td>\n",
       "      <td>22678.03</td>\n",
       "      <td>660.53</td>\n",
       "      <td>2</td>\n",
       "      <td>1</td>\n",
       "      <td>0</td>\n",
       "      <td>139359.29</td>\n",
       "      <td>210.981015</td>\n",
       "    </tr>\n",
       "  </tbody>\n",
       "</table>\n",
       "</div>"
      ],
      "text/plain": [
       "     DATE    WEEKDAY  HIGH.TEMP  PRECIP  DayPass GoldZoneRev  RidePax  \\\n",
       "96  29Aug   Saturday         66    1.28     3087    Saturday     1382   \n",
       "35  29Jun     Monday         67    2.51     4320      Monday     1927   \n",
       "21  15Jun     Monday         71    0.00     1733      Monday     7795   \n",
       "16  10Jun  Wednesday         64    0.02     2626   Wednesday     5958   \n",
       "0   25May     Monday         58    0.00     3642      Monday    16471   \n",
       "\n",
       "    TShirts  LobsterRolls  SnackShack  StaffHours  FirstAid  MaineStatus  \\\n",
       "96      662          1057    19379.96      626.56         4            3   \n",
       "35     1003           798    27099.58      921.15         1            2   \n",
       "21      329           823    10797.66      243.91         5            2   \n",
       "16      608          1187    16505.84      442.13         2            2   \n",
       "0       950          1729    22678.03      660.53         2            1   \n",
       "\n",
       "    Event  TotalRevenue  Efficiency  \n",
       "96      0     205921.43  328.653968  \n",
       "35      0     269809.57  292.905140  \n",
       "21      0      64002.74  262.403100  \n",
       "16      0      97755.26  221.100717  \n",
       "0       0     139359.29  210.981015  "
      ]
     },
     "execution_count": 18,
     "metadata": {},
     "output_type": "execute_result"
    }
   ],
   "source": [
    "lobsterland['Efficiency'] = lobsterland['TotalRevenue']/lobsterland['StaffHours']\n",
    "lobsterland.nlargest(5,['Efficiency'])"
   ]
  },
  {
   "cell_type": "markdown",
   "metadata": {},
   "source": [
    "## Data Visualization"
   ]
  },
  {
   "cell_type": "markdown",
   "metadata": {},
   "source": [
    "#### I. Make a scatterplot that shows the number of RidePax as a function of the number of day passes sold."
   ]
  },
  {
   "cell_type": "code",
   "execution_count": 46,
   "metadata": {},
   "outputs": [
    {
     "data": {
      "image/png": "[encoded data removed]",
      "text/plain": [
       "<Figure size 432x288 with 1 Axes>"
      ]
     },
     "metadata": {
      "needs_background": "light"
     },
     "output_type": "display_data"
    }
   ],
   "source": [
    "plt.scatter(x ='DayPass', y = 'RidePax', data = lobsterland, color = 'midnightblue', s = 60);\n",
    "plt.title('RidePax as a function of number of day passes');\n",
    "plt.xlabel('Number of Day Passes Sold');\n",
    "plt.ylabel('Number of Total Riders on all Rides for a Day');"
   ]
  },
  {
   "cell_type": "markdown",
   "metadata": {},
   "source": [
    "The above visualization shows the number of total riders on all rides for a day as a function of number of passes sold on that day. \n",
    "As expected, it can be seen that as the number of passes increase, the total number of riders on all rides increases too. Here, we can see 2 clusters being formed: In the first cluster, there are more than 5,000 riders for which the number of day passes sold increase exponentially. However, in the second cluster, there are fewer riders in a day where the number of day passes sold inceases to ~4,500 and then decreases. Also, in cluster 1, there number of riders reaches to 25,000 whereas in cluster 2, it is less than 10,000. "
   ]
  },
  {
   "cell_type": "markdown",
   "metadata": {},
   "source": [
    "#### J. Now, create another scatterplot that shows the same variables as the ones you used in the previous step, but this time, set the color and size of the points to ‘PRECIP'."
   ]
  },
  {
   "cell_type": "code",
   "execution_count": 27,
   "metadata": {
    "scrolled": true
   },
   "outputs": [
    {
     "data": {
      "image/png": "[encoded data removed]",
      "text/plain": [
       "<Figure size 432x288 with 1 Axes>"
      ]
     },
     "metadata": {
      "needs_background": "light"
     },
     "output_type": "display_data"
    }
   ],
   "source": [
    "sns.scatterplot(x ='RidePax', y = 'DayPass' , hue = 'PRECIP', size = 'PRECIP', data = lobsterland, palette = 'winter').set_title('RidePax as a function of number of day passes and precipitation'); "
   ]
  },
  {
   "cell_type": "markdown",
   "metadata": {},
   "source": [
    "###### What does this plot tell you about the impact of rain on this variable relationship?\n",
    "\n",
    "As seen from the figure, the precipitation is the highest at point 2 and 3 which shows that even though there more than 3,000 day passes sold, the number of riders were significantly low. Hence, people do not prefer visiting the park on days with higher rainfall. Also, with precipitation closer to 0, there is a rise in both the day passes sold and number of riders visitng the park."
   ]
  },
  {
   "cell_type": "markdown",
   "metadata": {},
   "source": [
    "#### K. Create a vertical barplot that depicts the categorical “Event Code” variable on the x-axis, and the average number t-shirts sold for each of the event code categories on the y-axis"
   ]
  },
  {
   "cell_type": "code",
   "execution_count": 50,
   "metadata": {},
   "outputs": [
    {
     "data": {
      "image/png": "[encoded data removed]",
      "text/plain": [
       "<Figure size 432x288 with 1 Axes>"
      ]
     },
     "metadata": {
      "needs_background": "light"
     },
     "output_type": "display_data"
    }
   ],
   "source": [
    "sns.barplot(x = \"Event\", y = \"TShirts\" , data = lobsterland, palette = 'winter', ci = None);"
   ]
  },
  {
   "cell_type": "markdown",
   "metadata": {},
   "source": [
    "###### What do you notice about this relationship? Summarize what you see here in a couple of sentences. In order to assess whether the promotions have an impact on this variable, what else would be helpful to know?\n",
    "\n",
    "It can be seen that on the day with no promotional events, there were maximum tshirts being sold as compared to days when there was a live concert or kids under the age of 10 get free entry. This can be due to the fact the events kept people engaged and hence they didn't get the time to buy tshirts. To know whether the promotions affected the sale of tshirts, it would be helpful to know the number of people attending event, were the tshirts marketed in the promotional events as well as the weather conditions and the precipitation on that particular day.  "
   ]
  },
  {
   "cell_type": "markdown",
   "metadata": {},
   "source": [
    "#### L. Make a new barplot with WEEKDAY as your x-variable, and use it to re-assess the impact of the promotions on t-shirt sales."
   ]
  },
  {
   "cell_type": "code",
   "execution_count": 53,
   "metadata": {},
   "outputs": [
    {
     "data": {
      "image/png": "[encoded data removed]",
      "text/plain": [
       "<Figure size 432x288 with 1 Axes>"
      ]
     },
     "metadata": {
      "needs_background": "light"
     },
     "output_type": "display_data"
    }
   ],
   "source": [
    "sns.barplot(x = \"WEEKDAY\", y = \"TShirts\" , data = lobsterland, palette = 'winter', ci = None);"
   ]
  },
  {
   "cell_type": "markdown",
   "metadata": {},
   "source": [
    "###### What does this plot show you? Describe this plot in a couple ofsentences.\n",
    "\n",
    "It can be inferred that the maximum tshirts are sold on weekends as compared to weekdays. This can be due to the fact the people visit the park the more on weekends and hence, tend to spend more."
   ]
  },
  {
   "cell_type": "markdown",
   "metadata": {},
   "source": [
    "#### M. Create a histogram that shows the distribution of Total Revenue per day. Be sure to include an x-axis label and a title with your histogram."
   ]
  },
  {
   "cell_type": "code",
   "execution_count": 55,
   "metadata": {},
   "outputs": [
    {
     "data": {
      "image/png": "[encoded data removed]",
      "text/plain": [
       "<Figure size 432x288 with 1 Axes>"
      ]
     },
     "metadata": {
      "needs_background": "light"
     },
     "output_type": "display_data"
    }
   ],
   "source": [
    "plt.hist( x ='TotalRevenue', label= 'WEEKDAY' , bins = 15, color = 'teal', \n",
    "                rwidth = 0.98, alpha = 1, data = lobsterland);\n",
    "plt.title('Distribution of Total Revenue / Day');\n",
    "plt.xlabel('Total Revenue');\n",
    "plt.ylabel('Weekdays');"
   ]
  },
  {
   "cell_type": "markdown",
   "metadata": {},
   "source": [
    "#### N. Now, suppose you want to see a finer level of detail. How can you increase the number of bins in your histogram? Create a histogram with more bins. Be sure to include an x-axis label and a title with your histogram."
   ]
  },
  {
   "cell_type": "code",
   "execution_count": 56,
   "metadata": {},
   "outputs": [
    {
     "data": {
      "image/png": "[encoded data removed]",
      "text/plain": [
       "<Figure size 432x288 with 1 Axes>"
      ]
     },
     "metadata": {
      "needs_background": "light"
     },
     "output_type": "display_data"
    }
   ],
   "source": [
    "plt.hist( x ='TotalRevenue', label= 'WEEKDAY' , bins = 35 , color = 'steelblue', \n",
    "                rwidth = 0.98, alpha = 1, data = lobsterland);\n",
    "plt.title('Distribution of Total Revenue / Day');\n",
    "plt.xlabel('Total Revenue');\n",
    "plt.ylabel('Weekdays');"
   ]
  },
  {
   "cell_type": "markdown",
   "metadata": {},
   "source": [
    "###### How is your second histogram different from your first one? What is the impact of increasing the number of bins?\n",
    "\n",
    "The second histogram has a more detailed understanding of total revenue per day. In the first histogram, it can be seen that a revenue ranging from $1,00,00 - $1,50,000 was generated in 17.5 days. However, the second histogram gives a clearer view indicating the maximum revenue generation in 11 days. Also, there is an outlier in the dataset indicating a revenue generated of $2,50,000 in less than 5 days. This can be due to holidays like Thanksgiving, Christmas etc falling on those days."
   ]
  }
 ],
 "metadata": {
  "kernelspec": {
   "display_name": "Python 3",
   "language": "python",
   "name": "python3"
  },
  "language_info": {
   "codemirror_mode": {
    "name": "ipython",
    "version": 3
   },
   "file_extension": ".py",
   "mimetype": "text/x-python",
   "name": "python",
   "nbconvert_exporter": "python",
   "pygments_lexer": "ipython3",
   "version": "3.7.4"
  }
 },
 "nbformat": 4,
 "nbformat_minor": 4
}
