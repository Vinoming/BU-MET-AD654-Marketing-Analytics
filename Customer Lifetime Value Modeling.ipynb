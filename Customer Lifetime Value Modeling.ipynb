{
 "cells": [
  {
   "cell_type": "markdown",
   "metadata": {},
   "source": [
    "## Assignment 5: Customer Lifetime Value Modeling \n",
    "###### By: Shimony Agrawal"
   ]
  },
  {
   "cell_type": "code",
   "execution_count": 1,
   "metadata": {},
   "outputs": [
    {
     "name": "stdout",
     "output_type": "stream",
     "text": [
      "/Users/shimonyagrawal/Desktop\n"
     ]
    }
   ],
   "source": [
    "%cd /Users/shimonyagrawal/Desktop\n",
    "import pandas as pd\n",
    "import matplotlib.pyplot as plt\n",
    "import seaborn as sns\n",
    "import numpy as np"
   ]
  },
  {
   "cell_type": "markdown",
   "metadata": {},
   "source": [
    "## Part 1: Exploratory Data Analysis\n",
    "\n",
    "#### Read the goldzoneplayers.csv into your environment. Then, clean up any NaNs that may be hiding out in the dataset -- remove them completely."
   ]
  },
  {
   "cell_type": "code",
   "execution_count": 2,
   "metadata": {},
   "outputs": [],
   "source": [
    "goldzone = pd.read_csv('goldzoneplayers.csv')"
   ]
  },
  {
   "cell_type": "code",
   "execution_count": 3,
   "metadata": {},
   "outputs": [
    {
     "data": {
      "text/html": [
       "<div>\n",
       "<style scoped>\n",
       "    .dataframe tbody tr th:only-of-type {\n",
       "        vertical-align: middle;\n",
       "    }\n",
       "\n",
       "    .dataframe tbody tr th {\n",
       "        vertical-align: top;\n",
       "    }\n",
       "\n",
       "    .dataframe thead th {\n",
       "        text-align: right;\n",
       "    }\n",
       "</style>\n",
       "<table border=\"1\" class=\"dataframe\">\n",
       "  <thead>\n",
       "    <tr style=\"text-align: right;\">\n",
       "      <th></th>\n",
       "      <th>PlayerID</th>\n",
       "      <th>Gender</th>\n",
       "      <th>MarStatus</th>\n",
       "      <th>Age</th>\n",
       "      <th>Education</th>\n",
       "      <th>Employment</th>\n",
       "      <th>Consecutive</th>\n",
       "      <th>TotalSpend</th>\n",
       "      <th>Unnamed: 8</th>\n",
       "    </tr>\n",
       "  </thead>\n",
       "  <tbody>\n",
       "    <tr>\n",
       "      <th>0</th>\n",
       "      <td>1.0</td>\n",
       "      <td>M</td>\n",
       "      <td>S</td>\n",
       "      <td>24.0</td>\n",
       "      <td>HS</td>\n",
       "      <td>H</td>\n",
       "      <td>1.0</td>\n",
       "      <td>4430.0</td>\n",
       "      <td>NaN</td>\n",
       "    </tr>\n",
       "    <tr>\n",
       "      <th>1</th>\n",
       "      <td>2.0</td>\n",
       "      <td>M</td>\n",
       "      <td>S</td>\n",
       "      <td>27.0</td>\n",
       "      <td>C</td>\n",
       "      <td>S</td>\n",
       "      <td>3.0</td>\n",
       "      <td>6837.0</td>\n",
       "      <td>NaN</td>\n",
       "    </tr>\n",
       "    <tr>\n",
       "      <th>2</th>\n",
       "      <td>3.0</td>\n",
       "      <td>M</td>\n",
       "      <td>S</td>\n",
       "      <td>35.0</td>\n",
       "      <td>HS</td>\n",
       "      <td>S</td>\n",
       "      <td>3.0</td>\n",
       "      <td>5899.0</td>\n",
       "      <td>NaN</td>\n",
       "    </tr>\n",
       "    <tr>\n",
       "      <th>3</th>\n",
       "      <td>4.0</td>\n",
       "      <td>M</td>\n",
       "      <td>M</td>\n",
       "      <td>40.0</td>\n",
       "      <td>C</td>\n",
       "      <td>S</td>\n",
       "      <td>7.0</td>\n",
       "      <td>1524.0</td>\n",
       "      <td>NaN</td>\n",
       "    </tr>\n",
       "    <tr>\n",
       "      <th>4</th>\n",
       "      <td>5.0</td>\n",
       "      <td>M</td>\n",
       "      <td>S</td>\n",
       "      <td>19.0</td>\n",
       "      <td>HS</td>\n",
       "      <td>S</td>\n",
       "      <td>3.0</td>\n",
       "      <td>4474.0</td>\n",
       "      <td>NaN</td>\n",
       "    </tr>\n",
       "  </tbody>\n",
       "</table>\n",
       "</div>"
      ],
      "text/plain": [
       "   PlayerID Gender MarStatus   Age Education Employment  Consecutive  \\\n",
       "0       1.0      M         S  24.0        HS          H          1.0   \n",
       "1       2.0      M         S  27.0         C          S          3.0   \n",
       "2       3.0      M         S  35.0        HS          S          3.0   \n",
       "3       4.0      M         M  40.0         C          S          7.0   \n",
       "4       5.0      M         S  19.0        HS          S          3.0   \n",
       "\n",
       "   TotalSpend  Unnamed: 8  \n",
       "0      4430.0         NaN  \n",
       "1      6837.0         NaN  \n",
       "2      5899.0         NaN  \n",
       "3      1524.0         NaN  \n",
       "4      4474.0         NaN  "
      ]
     },
     "execution_count": 3,
     "metadata": {},
     "output_type": "execute_result"
    }
   ],
   "source": [
    "goldzone.head()"
   ]
  },
  {
   "cell_type": "code",
   "execution_count": 4,
   "metadata": {},
   "outputs": [
    {
     "data": {
      "text/html": [
       "<div>\n",
       "<style scoped>\n",
       "    .dataframe tbody tr th:only-of-type {\n",
       "        vertical-align: middle;\n",
       "    }\n",
       "\n",
       "    .dataframe tbody tr th {\n",
       "        vertical-align: top;\n",
       "    }\n",
       "\n",
       "    .dataframe thead th {\n",
       "        text-align: right;\n",
       "    }\n",
       "</style>\n",
       "<table border=\"1\" class=\"dataframe\">\n",
       "  <thead>\n",
       "    <tr style=\"text-align: right;\">\n",
       "      <th></th>\n",
       "      <th>PlayerID</th>\n",
       "      <th>Gender</th>\n",
       "      <th>MarStatus</th>\n",
       "      <th>Age</th>\n",
       "      <th>Education</th>\n",
       "      <th>Employment</th>\n",
       "      <th>Consecutive</th>\n",
       "      <th>TotalSpend</th>\n",
       "    </tr>\n",
       "  </thead>\n",
       "  <tbody>\n",
       "    <tr>\n",
       "      <th>0</th>\n",
       "      <td>1.0</td>\n",
       "      <td>M</td>\n",
       "      <td>S</td>\n",
       "      <td>24.0</td>\n",
       "      <td>HS</td>\n",
       "      <td>H</td>\n",
       "      <td>1.0</td>\n",
       "      <td>4430.0</td>\n",
       "    </tr>\n",
       "    <tr>\n",
       "      <th>1</th>\n",
       "      <td>2.0</td>\n",
       "      <td>M</td>\n",
       "      <td>S</td>\n",
       "      <td>27.0</td>\n",
       "      <td>C</td>\n",
       "      <td>S</td>\n",
       "      <td>3.0</td>\n",
       "      <td>6837.0</td>\n",
       "    </tr>\n",
       "    <tr>\n",
       "      <th>2</th>\n",
       "      <td>3.0</td>\n",
       "      <td>M</td>\n",
       "      <td>S</td>\n",
       "      <td>35.0</td>\n",
       "      <td>HS</td>\n",
       "      <td>S</td>\n",
       "      <td>3.0</td>\n",
       "      <td>5899.0</td>\n",
       "    </tr>\n",
       "    <tr>\n",
       "      <th>3</th>\n",
       "      <td>4.0</td>\n",
       "      <td>M</td>\n",
       "      <td>M</td>\n",
       "      <td>40.0</td>\n",
       "      <td>C</td>\n",
       "      <td>S</td>\n",
       "      <td>7.0</td>\n",
       "      <td>1524.0</td>\n",
       "    </tr>\n",
       "    <tr>\n",
       "      <th>4</th>\n",
       "      <td>5.0</td>\n",
       "      <td>M</td>\n",
       "      <td>S</td>\n",
       "      <td>19.0</td>\n",
       "      <td>HS</td>\n",
       "      <td>S</td>\n",
       "      <td>3.0</td>\n",
       "      <td>4474.0</td>\n",
       "    </tr>\n",
       "    <tr>\n",
       "      <th>...</th>\n",
       "      <td>...</td>\n",
       "      <td>...</td>\n",
       "      <td>...</td>\n",
       "      <td>...</td>\n",
       "      <td>...</td>\n",
       "      <td>...</td>\n",
       "      <td>...</td>\n",
       "      <td>...</td>\n",
       "    </tr>\n",
       "    <tr>\n",
       "      <th>191</th>\n",
       "      <td>NaN</td>\n",
       "      <td>NaN</td>\n",
       "      <td>NaN</td>\n",
       "      <td>NaN</td>\n",
       "      <td>NaN</td>\n",
       "      <td>NaN</td>\n",
       "      <td>NaN</td>\n",
       "      <td>NaN</td>\n",
       "    </tr>\n",
       "    <tr>\n",
       "      <th>192</th>\n",
       "      <td>NaN</td>\n",
       "      <td>NaN</td>\n",
       "      <td>NaN</td>\n",
       "      <td>NaN</td>\n",
       "      <td>NaN</td>\n",
       "      <td>NaN</td>\n",
       "      <td>NaN</td>\n",
       "      <td>NaN</td>\n",
       "    </tr>\n",
       "    <tr>\n",
       "      <th>193</th>\n",
       "      <td>NaN</td>\n",
       "      <td>NaN</td>\n",
       "      <td>NaN</td>\n",
       "      <td>NaN</td>\n",
       "      <td>NaN</td>\n",
       "      <td>NaN</td>\n",
       "      <td>NaN</td>\n",
       "      <td>NaN</td>\n",
       "    </tr>\n",
       "    <tr>\n",
       "      <th>194</th>\n",
       "      <td>NaN</td>\n",
       "      <td>NaN</td>\n",
       "      <td>NaN</td>\n",
       "      <td>NaN</td>\n",
       "      <td>NaN</td>\n",
       "      <td>NaN</td>\n",
       "      <td>NaN</td>\n",
       "      <td>NaN</td>\n",
       "    </tr>\n",
       "    <tr>\n",
       "      <th>195</th>\n",
       "      <td>NaN</td>\n",
       "      <td>NaN</td>\n",
       "      <td>NaN</td>\n",
       "      <td>NaN</td>\n",
       "      <td>NaN</td>\n",
       "      <td>NaN</td>\n",
       "      <td>1.0</td>\n",
       "      <td>NaN</td>\n",
       "    </tr>\n",
       "  </tbody>\n",
       "</table>\n",
       "<p>196 rows × 8 columns</p>\n",
       "</div>"
      ],
      "text/plain": [
       "     PlayerID Gender MarStatus   Age Education Employment  Consecutive  \\\n",
       "0         1.0      M         S  24.0        HS          H          1.0   \n",
       "1         2.0      M         S  27.0         C          S          3.0   \n",
       "2         3.0      M         S  35.0        HS          S          3.0   \n",
       "3         4.0      M         M  40.0         C          S          7.0   \n",
       "4         5.0      M         S  19.0        HS          S          3.0   \n",
       "..        ...    ...       ...   ...       ...        ...          ...   \n",
       "191       NaN    NaN       NaN   NaN       NaN        NaN          NaN   \n",
       "192       NaN    NaN       NaN   NaN       NaN        NaN          NaN   \n",
       "193       NaN    NaN       NaN   NaN       NaN        NaN          NaN   \n",
       "194       NaN    NaN       NaN   NaN       NaN        NaN          NaN   \n",
       "195       NaN    NaN       NaN   NaN       NaN        NaN          1.0   \n",
       "\n",
       "     TotalSpend  \n",
       "0        4430.0  \n",
       "1        6837.0  \n",
       "2        5899.0  \n",
       "3        1524.0  \n",
       "4        4474.0  \n",
       "..          ...  \n",
       "191         NaN  \n",
       "192         NaN  \n",
       "193         NaN  \n",
       "194         NaN  \n",
       "195         NaN  \n",
       "\n",
       "[196 rows x 8 columns]"
      ]
     },
     "execution_count": 4,
     "metadata": {},
     "output_type": "execute_result"
    }
   ],
   "source": [
    "goldzone = goldzone.drop('Unnamed: 8',1)\n",
    "goldzone"
   ]
  },
  {
   "cell_type": "code",
   "execution_count": 5,
   "metadata": {},
   "outputs": [
    {
     "data": {
      "text/html": [
       "<div>\n",
       "<style scoped>\n",
       "    .dataframe tbody tr th:only-of-type {\n",
       "        vertical-align: middle;\n",
       "    }\n",
       "\n",
       "    .dataframe tbody tr th {\n",
       "        vertical-align: top;\n",
       "    }\n",
       "\n",
       "    .dataframe thead th {\n",
       "        text-align: right;\n",
       "    }\n",
       "</style>\n",
       "<table border=\"1\" class=\"dataframe\">\n",
       "  <thead>\n",
       "    <tr style=\"text-align: right;\">\n",
       "      <th></th>\n",
       "      <th>PlayerID</th>\n",
       "      <th>Gender</th>\n",
       "      <th>MarStatus</th>\n",
       "      <th>Age</th>\n",
       "      <th>Education</th>\n",
       "      <th>Employment</th>\n",
       "      <th>Consecutive</th>\n",
       "      <th>TotalSpend</th>\n",
       "    </tr>\n",
       "  </thead>\n",
       "  <tbody>\n",
       "    <tr>\n",
       "      <th>0</th>\n",
       "      <td>1.0</td>\n",
       "      <td>M</td>\n",
       "      <td>S</td>\n",
       "      <td>24.0</td>\n",
       "      <td>HS</td>\n",
       "      <td>H</td>\n",
       "      <td>1.0</td>\n",
       "      <td>4430.0</td>\n",
       "    </tr>\n",
       "    <tr>\n",
       "      <th>1</th>\n",
       "      <td>2.0</td>\n",
       "      <td>M</td>\n",
       "      <td>S</td>\n",
       "      <td>27.0</td>\n",
       "      <td>C</td>\n",
       "      <td>S</td>\n",
       "      <td>3.0</td>\n",
       "      <td>6837.0</td>\n",
       "    </tr>\n",
       "    <tr>\n",
       "      <th>2</th>\n",
       "      <td>3.0</td>\n",
       "      <td>M</td>\n",
       "      <td>S</td>\n",
       "      <td>35.0</td>\n",
       "      <td>HS</td>\n",
       "      <td>S</td>\n",
       "      <td>3.0</td>\n",
       "      <td>5899.0</td>\n",
       "    </tr>\n",
       "    <tr>\n",
       "      <th>3</th>\n",
       "      <td>4.0</td>\n",
       "      <td>M</td>\n",
       "      <td>M</td>\n",
       "      <td>40.0</td>\n",
       "      <td>C</td>\n",
       "      <td>S</td>\n",
       "      <td>7.0</td>\n",
       "      <td>1524.0</td>\n",
       "    </tr>\n",
       "    <tr>\n",
       "      <th>4</th>\n",
       "      <td>5.0</td>\n",
       "      <td>M</td>\n",
       "      <td>S</td>\n",
       "      <td>19.0</td>\n",
       "      <td>HS</td>\n",
       "      <td>S</td>\n",
       "      <td>3.0</td>\n",
       "      <td>4474.0</td>\n",
       "    </tr>\n",
       "    <tr>\n",
       "      <th>...</th>\n",
       "      <td>...</td>\n",
       "      <td>...</td>\n",
       "      <td>...</td>\n",
       "      <td>...</td>\n",
       "      <td>...</td>\n",
       "      <td>...</td>\n",
       "      <td>...</td>\n",
       "      <td>...</td>\n",
       "    </tr>\n",
       "    <tr>\n",
       "      <th>165</th>\n",
       "      <td>166.0</td>\n",
       "      <td>M</td>\n",
       "      <td>S</td>\n",
       "      <td>29.0</td>\n",
       "      <td>HS</td>\n",
       "      <td>H</td>\n",
       "      <td>3.0</td>\n",
       "      <td>6194.0</td>\n",
       "    </tr>\n",
       "    <tr>\n",
       "      <th>166</th>\n",
       "      <td>167.0</td>\n",
       "      <td>M</td>\n",
       "      <td>S</td>\n",
       "      <td>35.0</td>\n",
       "      <td>HS</td>\n",
       "      <td>U</td>\n",
       "      <td>6.0</td>\n",
       "      <td>5823.0</td>\n",
       "    </tr>\n",
       "    <tr>\n",
       "      <th>167</th>\n",
       "      <td>168.0</td>\n",
       "      <td>M</td>\n",
       "      <td>S</td>\n",
       "      <td>24.0</td>\n",
       "      <td>HS</td>\n",
       "      <td>S</td>\n",
       "      <td>5.0</td>\n",
       "      <td>3494.0</td>\n",
       "    </tr>\n",
       "    <tr>\n",
       "      <th>168</th>\n",
       "      <td>169.0</td>\n",
       "      <td>F</td>\n",
       "      <td>M</td>\n",
       "      <td>29.0</td>\n",
       "      <td>HS</td>\n",
       "      <td>U</td>\n",
       "      <td>5.0</td>\n",
       "      <td>4856.0</td>\n",
       "    </tr>\n",
       "    <tr>\n",
       "      <th>169</th>\n",
       "      <td>170.0</td>\n",
       "      <td>M</td>\n",
       "      <td>S</td>\n",
       "      <td>44.0</td>\n",
       "      <td>HS</td>\n",
       "      <td>U</td>\n",
       "      <td>1.0</td>\n",
       "      <td>2965.0</td>\n",
       "    </tr>\n",
       "  </tbody>\n",
       "</table>\n",
       "<p>169 rows × 8 columns</p>\n",
       "</div>"
      ],
      "text/plain": [
       "     PlayerID Gender MarStatus   Age Education Employment  Consecutive  \\\n",
       "0         1.0      M         S  24.0        HS          H          1.0   \n",
       "1         2.0      M         S  27.0         C          S          3.0   \n",
       "2         3.0      M         S  35.0        HS          S          3.0   \n",
       "3         4.0      M         M  40.0         C          S          7.0   \n",
       "4         5.0      M         S  19.0        HS          S          3.0   \n",
       "..        ...    ...       ...   ...       ...        ...          ...   \n",
       "165     166.0      M         S  29.0        HS          H          3.0   \n",
       "166     167.0      M         S  35.0        HS          U          6.0   \n",
       "167     168.0      M         S  24.0        HS          S          5.0   \n",
       "168     169.0      F         M  29.0        HS          U          5.0   \n",
       "169     170.0      M         S  44.0        HS          U          1.0   \n",
       "\n",
       "     TotalSpend  \n",
       "0        4430.0  \n",
       "1        6837.0  \n",
       "2        5899.0  \n",
       "3        1524.0  \n",
       "4        4474.0  \n",
       "..          ...  \n",
       "165      6194.0  \n",
       "166      5823.0  \n",
       "167      3494.0  \n",
       "168      4856.0  \n",
       "169      2965.0  \n",
       "\n",
       "[169 rows x 8 columns]"
      ]
     },
     "execution_count": 5,
     "metadata": {},
     "output_type": "execute_result"
    }
   ],
   "source": [
    "goldzone = goldzone.dropna()\n",
    "goldzone"
   ]
  },
  {
   "cell_type": "code",
   "execution_count": 6,
   "metadata": {},
   "outputs": [
    {
     "name": "stdout",
     "output_type": "stream",
     "text": [
      "<class 'pandas.core.frame.DataFrame'>\n",
      "Int64Index: 169 entries, 0 to 169\n",
      "Data columns (total 8 columns):\n",
      " #   Column       Non-Null Count  Dtype  \n",
      "---  ------       --------------  -----  \n",
      " 0   PlayerID     169 non-null    float64\n",
      " 1   Gender       169 non-null    object \n",
      " 2   MarStatus    169 non-null    object \n",
      " 3   Age          169 non-null    float64\n",
      " 4   Education    169 non-null    object \n",
      " 5   Employment   169 non-null    object \n",
      " 6   Consecutive  169 non-null    float64\n",
      " 7   TotalSpend   169 non-null    float64\n",
      "dtypes: float64(4), object(4)\n",
      "memory usage: 11.9+ KB\n"
     ]
    }
   ],
   "source": [
    "goldzone.info()"
   ]
  },
  {
   "cell_type": "markdown",
   "metadata": {},
   "source": [
    "#### Generate up to 8 different visualizations for this dataset. For each visualization that you make, describe what it’s showing in 2-3 sentences.\n",
    "\n",
    "#### Visualization 1: Total Spending with Regressor Line based on Age"
   ]
  },
  {
   "cell_type": "code",
   "execution_count": 123,
   "metadata": {},
   "outputs": [
    {
     "data": {
      "image/png": "[encoded data removed]",
      "text/plain": [
       "<Figure size 360x360 with 1 Axes>"
      ]
     },
     "metadata": {
      "needs_background": "light"
     },
     "output_type": "display_data"
    }
   ],
   "source": [
    "sns.lmplot(x='Age', y='TotalSpend', data=goldzone);"
   ]
  },
  {
   "cell_type": "markdown",
   "metadata": {},
   "source": [
    "As seen from the above visualization, people over the age of 50 have a higher total spending as compared to younger age groups. This can be due to the fact the these people have a steady income and lifestyle as compared to their younger counterparts who are still settling down in their lives. "
   ]
  },
  {
   "cell_type": "markdown",
   "metadata": {},
   "source": [
    "#### Visualization 2: Total Spending based on Employment Status"
   ]
  },
  {
   "cell_type": "code",
   "execution_count": 124,
   "metadata": {
    "scrolled": true
   },
   "outputs": [
    {
     "data": {
      "image/png": "[encoded data removed]",
      "text/plain": [
       "<Figure size 432x288 with 1 Axes>"
      ]
     },
     "metadata": {
      "needs_background": "light"
     },
     "output_type": "display_data"
    }
   ],
   "source": [
    "sns.barplot(x='Employment', y='TotalSpend', data=goldzone).set_title ('Total Spending based on Employment Status');"
   ]
  },
  {
   "cell_type": "markdown",
   "metadata": {},
   "source": [
    "Here, we have three categories for employment hourly-wages employee, salaried employee and unemployed. As seen, hourly wages employees have a higher total spending than other two categories. However, the confidence interval shows variablility in the 3 categories which suggests maybe all data points are not included or the dataset is smaller. "
   ]
  },
  {
   "cell_type": "markdown",
   "metadata": {},
   "source": [
    "#### Visualization 3: Total Spending based on Gender and Marital Status"
   ]
  },
  {
   "cell_type": "code",
   "execution_count": 126,
   "metadata": {
    "scrolled": false
   },
   "outputs": [
    {
     "data": {
      "image/png": "[encoded data removed]",
      "text/plain": [
       "<Figure size 432x288 with 1 Axes>"
      ]
     },
     "metadata": {
      "needs_background": "light"
     },
     "output_type": "display_data"
    }
   ],
   "source": [
    "sns.barplot(x='Gender', y='TotalSpend', hue='MarStatus', ci = None, data=goldzone).set_title ('Total Spending based on Gender and Marital Status');"
   ]
  },
  {
   "cell_type": "markdown",
   "metadata": {},
   "source": [
    "Here, I tried visualising 2 variables: gender and marital status. It can be inferred that single females have the lowest total spending followed by married males. There is a striking difference in the spending power of males when it comes to marital status. Single Males have higher total spending than married males. There is a similar pattern in the case of females however, here married females have higher total spending than single females. This can be based on the stereotype - that men have to support the household and take care of the family after getting married. So, men tend to spend less post marriage."
   ]
  },
  {
   "cell_type": "markdown",
   "metadata": {},
   "source": [
    "#### Visualization 4: Total Spending based on Education"
   ]
  },
  {
   "cell_type": "code",
   "execution_count": 128,
   "metadata": {
    "scrolled": true
   },
   "outputs": [
    {
     "data": {
      "image/png": "[encoded data removed]",
      "text/plain": [
       "<Figure size 432x288 with 1 Axes>"
      ]
     },
     "metadata": {
      "needs_background": "light"
     },
     "output_type": "display_data"
    }
   ],
   "source": [
    "sns.barplot(x='Education', y='TotalSpend', ci = None, data=goldzone).set_title ('Total Spending based on Education');"
   ]
  },
  {
   "cell_type": "markdown",
   "metadata": {},
   "source": [
    "We have 3 categories in Education: High School, College and Grad School. The three categories have similar total spending. This can be due to the fact that maybe education doesn't play a significant role in total spending as compared to other variables. "
   ]
  },
  {
   "cell_type": "markdown",
   "metadata": {},
   "source": [
    "#### Visualization 5: Category plot showing Total Spending across Gender, Marital Status and Employment"
   ]
  },
  {
   "cell_type": "code",
   "execution_count": 129,
   "metadata": {
    "scrolled": true
   },
   "outputs": [
    {
     "data": {
      "image/png": "[encoded data removed]",
      "text/plain": [
       "<Figure size 1138.62x360 with 3 Axes>"
      ]
     },
     "metadata": {
      "needs_background": "light"
     },
     "output_type": "display_data"
    }
   ],
   "source": [
    "sns.catplot(x='Gender', y='TotalSpend', hue='MarStatus', col=\"Employment\", data=goldzone);"
   ]
  },
  {
   "cell_type": "markdown",
   "metadata": {},
   "source": [
    "Using the category plot, I compared gender with employment and marital status to find its impact on Total Spending. It is interesting to note that single, males with hourly wages and salaried employees have an overall higher total spending than females. Females across all types of employment have a very low total spending. This can be due to lower pay as compared to males. Another interesting observation is unemployed, married females have a quite high total spending. "
   ]
  },
  {
   "cell_type": "markdown",
   "metadata": {},
   "source": [
    "#### Visualizatin 6: Distribution Plot showing Total Spending Range"
   ]
  },
  {
   "cell_type": "code",
   "execution_count": 130,
   "metadata": {
    "scrolled": true
   },
   "outputs": [
    {
     "data": {
      "image/png": "[encoded data removed]",
      "text/plain": [
       "<Figure size 432x288 with 1 Axes>"
      ]
     },
     "metadata": {
      "needs_background": "light"
     },
     "output_type": "display_data"
    }
   ],
   "source": [
    "sns.distplot(goldzone['TotalSpend']);"
   ]
  },
  {
   "cell_type": "markdown",
   "metadata": {},
   "source": [
    "#### Visualisation 7: Boxplot depicting Total Spending based on Gender "
   ]
  },
  {
   "cell_type": "code",
   "execution_count": 131,
   "metadata": {
    "scrolled": true
   },
   "outputs": [
    {
     "data": {
      "text/plain": [
       "<matplotlib.axes._subplots.AxesSubplot at 0x7febbef5dd90>"
      ]
     },
     "execution_count": 131,
     "metadata": {},
     "output_type": "execute_result"
    },
    {
     "data": {
      "image/png": "[encoded data removed]",
      "text/plain": [
       "<Figure size 432x288 with 1 Axes>"
      ]
     },
     "metadata": {
      "needs_background": "light"
     },
     "output_type": "display_data"
    }
   ],
   "source": [
    "sns.boxplot(x= \"Gender\", y=\"TotalSpend\", data=goldzone, palette = \"pastel\")"
   ]
  },
  {
   "cell_type": "markdown",
   "metadata": {},
   "source": [
    "From the above boxplot, it can be inferred that males have a higher total spending as compared to females. However, this inconsistency and huge gap between males and females can be due to inconsistencies with data like not including females in the data or missing values. "
   ]
  },
  {
   "cell_type": "markdown",
   "metadata": {},
   "source": [
    "#### Visualization 8: Total spending based on the consecutive members at Lobsterland"
   ]
  },
  {
   "cell_type": "code",
   "execution_count": 132,
   "metadata": {},
   "outputs": [
    {
     "data": {
      "image/png": "[encoded data removed]",
      "text/plain": [
       "<Figure size 432x288 with 1 Axes>"
      ]
     },
     "metadata": {
      "needs_background": "light"
     },
     "output_type": "display_data"
    }
   ],
   "source": [
    "sns.barplot(x='Consecutive', y='TotalSpend', ci = None, data=goldzone).set_title ('Total Spending based on Membership at Lobsterland');"
   ]
  },
  {
   "cell_type": "markdown",
   "metadata": {},
   "source": [
    "The barplot shows the total spending based on number of years a person was a member at Lobsterland. People in the 1st and 3rd year of membership have spent more as compared to 2nd, 4th and 7th years. "
   ]
  },
  {
   "cell_type": "code",
   "execution_count": 12,
   "metadata": {},
   "outputs": [
    {
     "ename": "TypeError",
     "evalue": "bar() got multiple values for keyword argument 'x'",
     "output_type": "error",
     "traceback": [
      "\u001b[0;31m---------------------------------------------------------------------------\u001b[0m",
      "\u001b[0;31mTypeError\u001b[0m                                 Traceback (most recent call last)",
      "\u001b[0;32m<ipython-input-12-08d4252dced5>\u001b[0m in \u001b[0;36m<module>\u001b[0;34m\u001b[0m\n\u001b[1;32m      2\u001b[0m \u001b[0mfig\u001b[0m\u001b[0;34m,\u001b[0m \u001b[0max\u001b[0m \u001b[0;34m=\u001b[0m \u001b[0mplt\u001b[0m\u001b[0;34m.\u001b[0m\u001b[0msubplots\u001b[0m\u001b[0;34m(\u001b[0m\u001b[0;34m)\u001b[0m\u001b[0;34m\u001b[0m\u001b[0;34m\u001b[0m\u001b[0m\n\u001b[1;32m      3\u001b[0m \u001b[0;34m\u001b[0m\u001b[0m\n\u001b[0;32m----> 4\u001b[0;31m \u001b[0max\u001b[0m\u001b[0;34m.\u001b[0m\u001b[0mbarh\u001b[0m\u001b[0;34m(\u001b[0m\u001b[0mx\u001b[0m \u001b[0;34m=\u001b[0m \u001b[0mgoldzone\u001b[0m\u001b[0;34m[\u001b[0m\u001b[0;34m'Employment'\u001b[0m\u001b[0;34m]\u001b[0m\u001b[0;34m,\u001b[0m \u001b[0my\u001b[0m \u001b[0;34m=\u001b[0m \u001b[0mgoldzone\u001b[0m\u001b[0;34m[\u001b[0m\u001b[0;34m'TotalSpend'\u001b[0m\u001b[0;34m]\u001b[0m\u001b[0;34m,\u001b[0m \u001b[0malign\u001b[0m\u001b[0;34m=\u001b[0m\u001b[0;34m'center'\u001b[0m\u001b[0;34m,\u001b[0m \u001b[0mwidth\u001b[0m \u001b[0;34m=\u001b[0m \u001b[0;36m0.5\u001b[0m\u001b[0;34m)\u001b[0m\u001b[0;34m\u001b[0m\u001b[0;34m\u001b[0m\u001b[0m\n\u001b[0m\u001b[1;32m      5\u001b[0m \u001b[0max\u001b[0m\u001b[0;34m.\u001b[0m\u001b[0minvert_yaxis\u001b[0m\u001b[0;34m(\u001b[0m\u001b[0;34m)\u001b[0m  \u001b[0;31m# labels read top-to-bottom\u001b[0m\u001b[0;34m\u001b[0m\u001b[0;34m\u001b[0m\u001b[0m\n\u001b[1;32m      6\u001b[0m \u001b[0max\u001b[0m\u001b[0;34m.\u001b[0m\u001b[0mset_xlabel\u001b[0m\u001b[0;34m(\u001b[0m\u001b[0;34m'Performance'\u001b[0m\u001b[0;34m)\u001b[0m\u001b[0;34m\u001b[0m\u001b[0;34m\u001b[0m\u001b[0m\n",
      "\u001b[0;32m~/opt/anaconda3/lib/python3.7/site-packages/matplotlib/axes/_axes.py\u001b[0m in \u001b[0;36mbarh\u001b[0;34m(self, y, width, height, left, align, **kwargs)\u001b[0m\n\u001b[1;32m   2594\u001b[0m         \u001b[0mkwargs\u001b[0m\u001b[0;34m.\u001b[0m\u001b[0msetdefault\u001b[0m\u001b[0;34m(\u001b[0m\u001b[0;34m'orientation'\u001b[0m\u001b[0;34m,\u001b[0m \u001b[0;34m'horizontal'\u001b[0m\u001b[0;34m)\u001b[0m\u001b[0;34m\u001b[0m\u001b[0;34m\u001b[0m\u001b[0m\n\u001b[1;32m   2595\u001b[0m         patches = self.bar(x=left, height=height, width=width, bottom=y,\n\u001b[0;32m-> 2596\u001b[0;31m                            align=align, **kwargs)\n\u001b[0m\u001b[1;32m   2597\u001b[0m         \u001b[0;32mreturn\u001b[0m \u001b[0mpatches\u001b[0m\u001b[0;34m\u001b[0m\u001b[0;34m\u001b[0m\u001b[0m\n\u001b[1;32m   2598\u001b[0m \u001b[0;34m\u001b[0m\u001b[0m\n",
      "\u001b[0;31mTypeError\u001b[0m: bar() got multiple values for keyword argument 'x'"
     ]
    },
    {
     "data": {
      "image/png": "[encoded data removed]",
      "text/plain": [
       "<Figure size 640x480 with 1 Axes>"
      ]
     },
     "metadata": {},
     "output_type": "display_data"
    }
   ],
   "source": [
    "plt.rcdefaults()\n",
    "fig, ax = plt.subplots()\n",
    "\n",
    "ax.barh(x = goldzone['Employment'], y = goldzone['TotalSpend'], align='center', width = 0.5)\n",
    "ax.invert_yaxis()  # labels read top-to-bottom\n",
    "ax.set_xlabel('Performance')\n",
    "ax.set_title('How fast do you want to go today?')\n",
    "\n",
    "plt.show()"
   ]
  },
  {
   "cell_type": "markdown",
   "metadata": {},
   "source": [
    "#### Pass any two categories to the groupby() function in pandas, and then use describe() to learn about how TotalSpend varies among the groups formed by combining the levels for these categories. "
   ]
  },
  {
   "cell_type": "code",
   "execution_count": 133,
   "metadata": {},
   "outputs": [
    {
     "data": {
      "text/html": [
       "<div>\n",
       "<style scoped>\n",
       "    .dataframe tbody tr th:only-of-type {\n",
       "        vertical-align: middle;\n",
       "    }\n",
       "\n",
       "    .dataframe tbody tr th {\n",
       "        vertical-align: top;\n",
       "    }\n",
       "\n",
       "    .dataframe thead th {\n",
       "        text-align: right;\n",
       "    }\n",
       "</style>\n",
       "<table border=\"1\" class=\"dataframe\">\n",
       "  <thead>\n",
       "    <tr style=\"text-align: right;\">\n",
       "      <th></th>\n",
       "      <th>count</th>\n",
       "      <th>mean</th>\n",
       "      <th>std</th>\n",
       "      <th>min</th>\n",
       "      <th>25%</th>\n",
       "      <th>50%</th>\n",
       "      <th>75%</th>\n",
       "      <th>max</th>\n",
       "    </tr>\n",
       "    <tr>\n",
       "      <th>Employment</th>\n",
       "      <th></th>\n",
       "      <th></th>\n",
       "      <th></th>\n",
       "      <th></th>\n",
       "      <th></th>\n",
       "      <th></th>\n",
       "      <th></th>\n",
       "      <th></th>\n",
       "    </tr>\n",
       "  </thead>\n",
       "  <tbody>\n",
       "    <tr>\n",
       "      <th>H</th>\n",
       "      <td>63.0</td>\n",
       "      <td>3725.507937</td>\n",
       "      <td>2126.465862</td>\n",
       "      <td>324.0</td>\n",
       "      <td>2144.0</td>\n",
       "      <td>4100.0</td>\n",
       "      <td>5405.5</td>\n",
       "      <td>7192.0</td>\n",
       "    </tr>\n",
       "    <tr>\n",
       "      <th>S</th>\n",
       "      <td>69.0</td>\n",
       "      <td>3133.492754</td>\n",
       "      <td>2081.576987</td>\n",
       "      <td>131.0</td>\n",
       "      <td>1386.0</td>\n",
       "      <td>2949.0</td>\n",
       "      <td>4239.0</td>\n",
       "      <td>7285.0</td>\n",
       "    </tr>\n",
       "    <tr>\n",
       "      <th>U</th>\n",
       "      <td>37.0</td>\n",
       "      <td>3049.405405</td>\n",
       "      <td>2288.191662</td>\n",
       "      <td>93.0</td>\n",
       "      <td>747.0</td>\n",
       "      <td>2965.0</td>\n",
       "      <td>4745.0</td>\n",
       "      <td>7231.0</td>\n",
       "    </tr>\n",
       "  </tbody>\n",
       "</table>\n",
       "</div>"
      ],
      "text/plain": [
       "            count         mean          std    min     25%     50%     75%  \\\n",
       "Employment                                                                   \n",
       "H            63.0  3725.507937  2126.465862  324.0  2144.0  4100.0  5405.5   \n",
       "S            69.0  3133.492754  2081.576987  131.0  1386.0  2949.0  4239.0   \n",
       "U            37.0  3049.405405  2288.191662   93.0   747.0  2965.0  4745.0   \n",
       "\n",
       "               max  \n",
       "Employment          \n",
       "H           7192.0  \n",
       "S           7285.0  \n",
       "U           7231.0  "
      ]
     },
     "execution_count": 133,
     "metadata": {},
     "output_type": "execute_result"
    }
   ],
   "source": [
    "goldzone.groupby('Employment').describe()['TotalSpend']"
   ]
  },
  {
   "cell_type": "markdown",
   "metadata": {},
   "source": [
    "From the above table it can be inferred that hourly-wage employees have a higher average spending as compared to others. "
   ]
  },
  {
   "cell_type": "code",
   "execution_count": 136,
   "metadata": {},
   "outputs": [
    {
     "data": {
      "text/html": [
       "<div>\n",
       "<style scoped>\n",
       "    .dataframe tbody tr th:only-of-type {\n",
       "        vertical-align: middle;\n",
       "    }\n",
       "\n",
       "    .dataframe tbody tr th {\n",
       "        vertical-align: top;\n",
       "    }\n",
       "\n",
       "    .dataframe thead th {\n",
       "        text-align: right;\n",
       "    }\n",
       "</style>\n",
       "<table border=\"1\" class=\"dataframe\">\n",
       "  <thead>\n",
       "    <tr style=\"text-align: right;\">\n",
       "      <th></th>\n",
       "      <th>count</th>\n",
       "      <th>mean</th>\n",
       "      <th>std</th>\n",
       "      <th>min</th>\n",
       "      <th>25%</th>\n",
       "      <th>50%</th>\n",
       "      <th>75%</th>\n",
       "      <th>max</th>\n",
       "    </tr>\n",
       "    <tr>\n",
       "      <th>MarStatus</th>\n",
       "      <th></th>\n",
       "      <th></th>\n",
       "      <th></th>\n",
       "      <th></th>\n",
       "      <th></th>\n",
       "      <th></th>\n",
       "      <th></th>\n",
       "      <th></th>\n",
       "    </tr>\n",
       "  </thead>\n",
       "  <tbody>\n",
       "    <tr>\n",
       "      <th>M</th>\n",
       "      <td>29.0</td>\n",
       "      <td>2455.241379</td>\n",
       "      <td>2197.327966</td>\n",
       "      <td>93.0</td>\n",
       "      <td>996.00</td>\n",
       "      <td>1524.0</td>\n",
       "      <td>3920.0</td>\n",
       "      <td>7191.0</td>\n",
       "    </tr>\n",
       "    <tr>\n",
       "      <th>S</th>\n",
       "      <td>140.0</td>\n",
       "      <td>3518.171429</td>\n",
       "      <td>2106.139603</td>\n",
       "      <td>131.0</td>\n",
       "      <td>1812.25</td>\n",
       "      <td>3514.0</td>\n",
       "      <td>5066.0</td>\n",
       "      <td>7285.0</td>\n",
       "    </tr>\n",
       "  </tbody>\n",
       "</table>\n",
       "</div>"
      ],
      "text/plain": [
       "           count         mean          std    min      25%     50%     75%  \\\n",
       "MarStatus                                                                    \n",
       "M           29.0  2455.241379  2197.327966   93.0   996.00  1524.0  3920.0   \n",
       "S          140.0  3518.171429  2106.139603  131.0  1812.25  3514.0  5066.0   \n",
       "\n",
       "              max  \n",
       "MarStatus          \n",
       "M          7191.0  \n",
       "S          7285.0  "
      ]
     },
     "execution_count": 136,
     "metadata": {},
     "output_type": "execute_result"
    }
   ],
   "source": [
    "goldzone.groupby('MarStatus').describe()['TotalSpend']"
   ]
  },
  {
   "cell_type": "markdown",
   "metadata": {},
   "source": [
    "From the above table it can be inferred that singles are spending on an average $1,000 more than married people.\n",
    "\n",
    "As seen from EDA, married people spend the lowest due to their other commitments like financial pressure, loan, paying off the mortage and bills etc. However, customers who are male, single and above the age of 50 can be good target customers for Lobsterland. "
   ]
  },
  {
   "cell_type": "markdown",
   "metadata": {},
   "source": [
    "## Part 2: Linear Regression Model \n",
    "\n",
    "#### Create a linear regression model that aims to predict the amount of money that a person will spend at the GoldZone in one summer (even though the ‘LV’ in ‘CLV’ stands for ‘Lifetime Value’, it is often calculated over a shorter period). Use all the variables in the dataset, but be sure to drop one level from any categorical input variables. Before you create the model, create a data partition that sends ⅓ of your data to ‘test’ and ⅔ to ‘train’. Use LinearRegression from scikit-learn."
   ]
  },
  {
   "cell_type": "code",
   "execution_count": 137,
   "metadata": {},
   "outputs": [
    {
     "data": {
      "text/plain": [
       "Index(['PlayerID', 'Age', 'Consecutive', 'TotalSpend', 'Gender_M',\n",
       "       'MarStatus_S', 'Education_G', 'Education_HS', 'Employment_S',\n",
       "       'Employment_U'],\n",
       "      dtype='object')"
      ]
     },
     "execution_count": 137,
     "metadata": {},
     "output_type": "execute_result"
    }
   ],
   "source": [
    "goldzone_dummies = pd.get_dummies(goldzone, drop_first = True, \n",
    "                                  columns = ['Gender', 'MarStatus', 'Education', 'Employment'])\n",
    "goldzone_dummies.columns"
   ]
  },
  {
   "cell_type": "code",
   "execution_count": 138,
   "metadata": {},
   "outputs": [],
   "source": [
    "X = goldzone_dummies[[ 'Age', 'Consecutive', 'Gender_M',\n",
    "       'MarStatus_S', 'Education_G', 'Education_HS', 'Employment_S',\n",
    "       'Employment_U']]\n",
    "y = goldzone_dummies['TotalSpend']"
   ]
  },
  {
   "cell_type": "code",
   "execution_count": 139,
   "metadata": {},
   "outputs": [],
   "source": [
    "from sklearn.model_selection import train_test_split\n",
    "\n",
    "X_train, X_test, y_train, y_test = train_test_split(X, y, test_size = 0.333, random_state = 30)"
   ]
  },
  {
   "cell_type": "code",
   "execution_count": 140,
   "metadata": {},
   "outputs": [
    {
     "data": {
      "text/plain": [
       "LinearRegression(copy_X=True, fit_intercept=True, n_jobs=None, normalize=False)"
      ]
     },
     "execution_count": 140,
     "metadata": {},
     "output_type": "execute_result"
    }
   ],
   "source": [
    "from sklearn.linear_model import LinearRegression\n",
    "from sklearn import datasets, linear_model\n",
    "from sklearn.metrics import mean_squared_error, r2_score, mean_absolute_error, median_absolute_error\n",
    "from sklearn import metrics\n",
    "\n",
    "\n",
    "lm_goldzone = LinearRegression()\n",
    "lm_goldzone.fit(X_train, y_train)"
   ]
  },
  {
   "cell_type": "code",
   "execution_count": 141,
   "metadata": {},
   "outputs": [
    {
     "data": {
      "text/plain": [
       "571.5246045536364"
      ]
     },
     "execution_count": 141,
     "metadata": {},
     "output_type": "execute_result"
    }
   ],
   "source": [
    "lm_goldzone.intercept_"
   ]
  },
  {
   "cell_type": "code",
   "execution_count": 142,
   "metadata": {},
   "outputs": [
    {
     "data": {
      "text/html": [
       "<div>\n",
       "<style scoped>\n",
       "    .dataframe tbody tr th:only-of-type {\n",
       "        vertical-align: middle;\n",
       "    }\n",
       "\n",
       "    .dataframe tbody tr th {\n",
       "        vertical-align: top;\n",
       "    }\n",
       "\n",
       "    .dataframe thead th {\n",
       "        text-align: right;\n",
       "    }\n",
       "</style>\n",
       "<table border=\"1\" class=\"dataframe\">\n",
       "  <thead>\n",
       "    <tr style=\"text-align: right;\">\n",
       "      <th></th>\n",
       "      <th>Coefficient</th>\n",
       "    </tr>\n",
       "  </thead>\n",
       "  <tbody>\n",
       "    <tr>\n",
       "      <th>Age</th>\n",
       "      <td>16.776163</td>\n",
       "    </tr>\n",
       "    <tr>\n",
       "      <th>Consecutive</th>\n",
       "      <td>-71.562938</td>\n",
       "    </tr>\n",
       "    <tr>\n",
       "      <th>Gender_M</th>\n",
       "      <td>2453.719292</td>\n",
       "    </tr>\n",
       "    <tr>\n",
       "      <th>MarStatus_S</th>\n",
       "      <td>1156.200540</td>\n",
       "    </tr>\n",
       "    <tr>\n",
       "      <th>Education_G</th>\n",
       "      <td>-729.478319</td>\n",
       "    </tr>\n",
       "    <tr>\n",
       "      <th>Education_HS</th>\n",
       "      <td>-275.306446</td>\n",
       "    </tr>\n",
       "    <tr>\n",
       "      <th>Employment_S</th>\n",
       "      <td>-529.798547</td>\n",
       "    </tr>\n",
       "    <tr>\n",
       "      <th>Employment_U</th>\n",
       "      <td>114.448044</td>\n",
       "    </tr>\n",
       "  </tbody>\n",
       "</table>\n",
       "</div>"
      ],
      "text/plain": [
       "              Coefficient\n",
       "Age             16.776163\n",
       "Consecutive    -71.562938\n",
       "Gender_M      2453.719292\n",
       "MarStatus_S   1156.200540\n",
       "Education_G   -729.478319\n",
       "Education_HS  -275.306446\n",
       "Employment_S  -529.798547\n",
       "Employment_U   114.448044"
      ]
     },
     "execution_count": 142,
     "metadata": {},
     "output_type": "execute_result"
    }
   ],
   "source": [
    "coefficient_goldzone = pd.DataFrame(lm_goldzone.coef_, X_train.columns, columns = ['Coefficient'])\n",
    "coefficient_goldzone"
   ]
  },
  {
   "cell_type": "markdown",
   "metadata": {},
   "source": [
    "#### Write a paragraph that explains the meaning of each of your model’s coefficients. \n",
    "\n",
    "As seen from the table, Total Spending is the highest for Males. From the Exploratory Data Analysis also we found similar inferences. Additionally, singles are also having a high Total Spending. Variables like education and hourly-wage and salaried employees do not have a positive impact on Total Spending. However, unemployed customers do have a significant impact on Total Spending.\n",
    "\n",
    "In terms of impact on Total Spending, age, gender_males and singles have the maximum impact. Lobsterland can use them as a target audience and increase its memberships. "
   ]
  },
  {
   "cell_type": "markdown",
   "metadata": {},
   "source": [
    "#### Generate the following statistics for your linear regression model: RMSE, r-squared, median absolute error. Generate these stats for your model’s performance against both train and test (but remember, you will only build the model with train)."
   ]
  },
  {
   "cell_type": "code",
   "execution_count": 69,
   "metadata": {},
   "outputs": [],
   "source": [
    "pred_train = lm_goldzone.predict(X_train)\n",
    "# pred_train"
   ]
  },
  {
   "cell_type": "code",
   "execution_count": 67,
   "metadata": {},
   "outputs": [],
   "source": [
    "pred_test = lm_goldzone.predict(X_test)\n",
    "# pred_test "
   ]
  },
  {
   "cell_type": "code",
   "execution_count": 72,
   "metadata": {},
   "outputs": [
    {
     "name": "stdout",
     "output_type": "stream",
     "text": [
      "1160.2445359153648\n",
      "3122264.8579274016\n",
      "1766.9931686136767\n",
      "0.2904248126206438\n"
     ]
    }
   ],
   "source": [
    "medianerror_train = metrics.median_absolute_error(y_train, pred_train)\n",
    "print(medianerror_train)\n",
    "meansqerror_train = metrics.mean_squared_error(y_train, pred_train)\n",
    "print(meansqerror_train)\n",
    "rmse_train = np.sqrt(metrics.mean_squared_error(y_train, pred_train))\n",
    "print(rmse_train)\n",
    "rsquared_train = r2_score(y_train, pred_train)\n",
    "print(rsquared_train)"
   ]
  },
  {
   "cell_type": "code",
   "execution_count": 73,
   "metadata": {},
   "outputs": [
    {
     "name": "stdout",
     "output_type": "stream",
     "text": [
      "1249.2651609154655\n",
      "3791974.7466529426\n",
      "1947.299346955404\n",
      "0.24361190106347097\n"
     ]
    }
   ],
   "source": [
    "medianerror_test = metrics.median_absolute_error(y_test, pred_test)\n",
    "print(medianerror_test)\n",
    "meansqerror_test = metrics.mean_squared_error(y_test, pred_test)\n",
    "print(meansqerror_test)\n",
    "rmse_test = np.sqrt(metrics.mean_squared_error(y_test, pred_test))\n",
    "print(rmse_test)\n",
    "rsquared_test = r2_score(y_test, pred_test)\n",
    "print(rsquared_test)"
   ]
  },
  {
   "cell_type": "markdown",
   "metadata": {},
   "source": [
    "## Part 3: Decision Tree Regressor Model \n",
    "\n",
    "#### Using the DecisionTreeRegressor module from scikit-learn, build a regression tree model for this dataset. Use the same inputs that you used in the previous model, in the same format, but with one difference this time -- pass all levels of all your input variables to the model this time -- in a tree, there’s no need to drop a level."
   ]
  },
  {
   "cell_type": "code",
   "execution_count": 144,
   "metadata": {},
   "outputs": [
    {
     "data": {
      "text/plain": [
       "Index(['PlayerID', 'Age', 'Consecutive', 'TotalSpend', 'Gender_F', 'Gender_M',\n",
       "       'MarStatus_M', 'MarStatus_S', 'Education_C', 'Education_G',\n",
       "       'Education_HS', 'Employment_H', 'Employment_S', 'Employment_U'],\n",
       "      dtype='object')"
      ]
     },
     "execution_count": 144,
     "metadata": {},
     "output_type": "execute_result"
    }
   ],
   "source": [
    "goldzone_dummiestree = pd.get_dummies(goldzone, columns = ['Gender', 'MarStatus' , 'Education', 'Employment'])\n",
    "goldzone_dummiestree.columns"
   ]
  },
  {
   "cell_type": "code",
   "execution_count": 152,
   "metadata": {},
   "outputs": [],
   "source": [
    "X1 = goldzone_dummiestree[['PlayerID', 'Age', 'Consecutive','Gender_F', 'Gender_M',\n",
    "       'MarStatus_M', 'MarStatus_S', 'Education_C', 'Education_G',\n",
    "       'Education_HS', 'Employment_H', 'Employment_S', 'Employment_U']]\n",
    "y1 = goldzone_dummiestree['TotalSpend']"
   ]
  },
  {
   "cell_type": "code",
   "execution_count": 153,
   "metadata": {},
   "outputs": [],
   "source": [
    "from sklearn.model_selection import train_test_split\n",
    "\n",
    "X1_train, X1_test, y1_train, y1_test = train_test_split(X1, y1, test_size = 0.333, random_state = 30)"
   ]
  },
  {
   "cell_type": "code",
   "execution_count": 154,
   "metadata": {},
   "outputs": [],
   "source": [
    "from sklearn.tree import DecisionTreeRegressor\n",
    "\n",
    "goldzone_regressor =  DecisionTreeRegressor(random_state = 30)\n",
    "goldzone_regressor = goldzone_regressor.fit(X1_train, y1_train)"
   ]
  },
  {
   "cell_type": "code",
   "execution_count": 155,
   "metadata": {},
   "outputs": [
    {
     "data": {
      "text/plain": [
       "array([4100., 6707., 2884., 3807., 4194., 2067.,  575., 6707.,  682.,\n",
       "        989.,  575., 2992., 6894., 3531., 2433., 4637., 2093., 6950.,\n",
       "       6148., 3542., 6194., 3260., 4637., 1084., 1168., 4387.,  732.,\n",
       "       2062.,  762., 2433., 7285., 6555., 6808., 6195., 1903., 6615.,\n",
       "       6894., 5639., 2884.,  918., 3203., 7285., 2418., 2418.,  575.,\n",
       "        791.,  630., 1711.,  989., 4294.,  989.,  575., 3151.,  732.,\n",
       "       7191., 7107., 6148.])"
      ]
     },
     "execution_count": 155,
     "metadata": {},
     "output_type": "execute_result"
    }
   ],
   "source": [
    "pred_testtree = goldzone_regressor.predict(X1_test)\n",
    "pred_testtree"
   ]
  },
  {
   "cell_type": "code",
   "execution_count": 156,
   "metadata": {},
   "outputs": [
    {
     "data": {
      "text/plain": [
       "array([4441.,  850., 1846.,  762.,  336.,  918., 5899., 6702., 6954.,\n",
       "        522.,  989., 3260.,  732.,  575.,  791., 6808., 2093., 4658.,\n",
       "       6841., 7285.,  810., 1711., 3531., 4100., 6615., 2218., 2418.,\n",
       "       2461., 6882., 4999., 3854., 6194., 7107.,  630., 2062., 2433.,\n",
       "       5385.,  362., 1903., 4478., 3494., 3542., 6707.,  575., 7192.,\n",
       "       5904.,  753., 3104., 4474., 6950., 2884., 1981., 2941., 1005.,\n",
       "       2067., 3203., 3807., 6195., 4745., 4387., 4194., 2771., 4712.,\n",
       "       2044., 6148., 4294., 4637., 3497., 4141., 1364., 4043., 5639.,\n",
       "       4856., 2238., 4360.,  729., 4186., 2518.,  996., 3495., 1727.,\n",
       "       3151., 3199., 4195., 3052., 1168., 1150., 5267.,  760., 4069.,\n",
       "       3225.,  628., 1149., 6894.,  682.,  365., 5567., 4139., 1084.,\n",
       "       7191., 1688., 2460., 2992., 2382.,  630., 3920., 2487.,  872.,\n",
       "        324., 6555., 5823., 1064.])"
      ]
     },
     "execution_count": 156,
     "metadata": {},
     "output_type": "execute_result"
    }
   ],
   "source": [
    "pred_traintree = goldzone_regressor.predict(X1_train)\n",
    "pred_traintree"
   ]
  },
  {
   "cell_type": "markdown",
   "metadata": {},
   "source": [
    "#### Create a visualization of your regression tree model. Write a paragraph that describes any four rules generated by your tree. (A rule is formed by tracing the path of a record from the top of the tree to the bottom).\n",
    "\n",
    "#### Generate the following statistics for your tree model: RMSE, r-squared, median absolute error."
   ]
  },
  {
   "cell_type": "code",
   "execution_count": 158,
   "metadata": {},
   "outputs": [
    {
     "name": "stdout",
     "output_type": "stream",
     "text": [
      "0.0\n",
      "0.0\n",
      "0.0\n",
      "1.0\n"
     ]
    }
   ],
   "source": [
    "medianerror_traintree = metrics.median_absolute_error(y1_train, pred_traintree)\n",
    "print(medianerror_traintree)\n",
    "meansqerror_traintree = metrics.mean_squared_error(y1_train, pred_traintree)\n",
    "print(meansqerror_traintree)\n",
    "rmse_traintree = np.sqrt(metrics.mean_squared_error(y1_train, pred_traintree))\n",
    "print(rmse_traintree)\n",
    "rsquared_traintree = r2_score(y1_train, pred_traintree)\n",
    "print(rsquared_traintree)"
   ]
  },
  {
   "cell_type": "code",
   "execution_count": 161,
   "metadata": {},
   "outputs": [
    {
     "name": "stdout",
     "output_type": "stream",
     "text": [
      "853.0\n",
      "3676235.5263157897\n",
      "1917.351174489376\n",
      "0.2666984917430337\n"
     ]
    }
   ],
   "source": [
    "medianerror_testtree = metrics.median_absolute_error(y1_test, pred_testtree)\n",
    "print(medianerror_testtree)\n",
    "meansqerror_testtree = metrics.mean_squared_error(y1_test, pred_testtree)\n",
    "print(meansqerror_testtree)\n",
    "rmse_testtree = np.sqrt(metrics.mean_squared_error(y1_test, pred_testtree))\n",
    "print(rmse_testtree)\n",
    "rsquared_testtree = r2_score(y1_test, pred_testtree)\n",
    "print(rsquared_testtree)"
   ]
  },
  {
   "cell_type": "markdown",
   "metadata": {},
   "source": [
    "As we can see, the training data is overfitted. In the training data set the median absolute error, mean squared error and the rmse are 0. The R-Squared is 1 which shows the model is predicting perfectly. When comparing it with the test data, the median absolute error, mean sqaured error and rmse are very high. To overcome overfitting, I have used the max depth parameter to limit the tree growth."
   ]
  },
  {
   "cell_type": "markdown",
   "metadata": {},
   "source": [
    "#### Generate these stats for your model’s performance against both train and test (but remember, you will only build the model with train). If you find that your model has been heavily overfit to your training set, consider using the maxdepth parameter (or any other adjustment) to limit tree growth)."
   ]
  },
  {
   "cell_type": "code",
   "execution_count": 162,
   "metadata": {},
   "outputs": [
    {
     "data": {
      "text/plain": [
       "18"
      ]
     },
     "execution_count": 162,
     "metadata": {},
     "output_type": "execute_result"
    }
   ],
   "source": [
    "goldzone_regressor.get_depth()"
   ]
  },
  {
   "cell_type": "code",
   "execution_count": 163,
   "metadata": {},
   "outputs": [],
   "source": [
    "goldzone_regressor =  DecisionTreeRegressor(random_state = 30, max_depth = 5)\n",
    "goldzone_regressor = goldzone_regressor.fit(X_train, y_train)"
   ]
  },
  {
   "cell_type": "code",
   "execution_count": 164,
   "metadata": {},
   "outputs": [
    {
     "data": {
      "text/plain": [
       "5"
      ]
     },
     "execution_count": 164,
     "metadata": {},
     "output_type": "execute_result"
    }
   ],
   "source": [
    "goldzone_regressor.get_depth()"
   ]
  },
  {
   "cell_type": "markdown",
   "metadata": {},
   "source": [
    "## Model Comparison\n",
    "\n",
    "### Use a histogram to visualize the distribution of the difference between linear regression model predictions against the test set and actual y_test values. Then, do the same thing for the difference between the regression tree model predictions against the test set and the actual y_test values."
   ]
  },
  {
   "cell_type": "code",
   "execution_count": 171,
   "metadata": {},
   "outputs": [],
   "source": [
    "lr_d = {'Linear Regression Actual': y_test, 'Linear Regression Predicted': pred_test}\n",
    "df_lr = pd.DataFrame(data = lr_d)"
   ]
  },
  {
   "cell_type": "code",
   "execution_count": 172,
   "metadata": {},
   "outputs": [
    {
     "data": {
      "text/plain": [
       "<matplotlib.axes._subplots.AxesSubplot at 0x7febbdf5ba90>"
      ]
     },
     "execution_count": 172,
     "metadata": {},
     "output_type": "execute_result"
    },
    {
     "data": {
      "image/png": "[encoded data removed]",
      "text/plain": [
       "<Figure size 432x288 with 1 Axes>"
      ]
     },
     "metadata": {
      "needs_background": "light"
     },
     "output_type": "display_data"
    }
   ],
   "source": [
    "df_lr['Difference'] = df_lr['Linear Regression Actual'] - df_lr['Linear Regression Predicted']\n",
    "sns.distplot(df_lr['Difference'])"
   ]
  },
  {
   "cell_type": "code",
   "execution_count": 174,
   "metadata": {},
   "outputs": [],
   "source": [
    "dr_d = {'Decision Tree Regressor Actual': y1_test, 'Decision Tree Regressor Predicted': pred_testtree}\n",
    "df_dr = pd.DataFrame(data = dr_d)"
   ]
  },
  {
   "cell_type": "code",
   "execution_count": 175,
   "metadata": {},
   "outputs": [
    {
     "data": {
      "text/plain": [
       "<matplotlib.axes._subplots.AxesSubplot at 0x7febbca11d10>"
      ]
     },
     "execution_count": 175,
     "metadata": {},
     "output_type": "execute_result"
    },
    {
     "data": {
      "image/png": "[encoded data removed]",
      "text/plain": [
       "<Figure size 432x288 with 1 Axes>"
      ]
     },
     "metadata": {
      "needs_background": "light"
     },
     "output_type": "display_data"
    }
   ],
   "source": [
    "df_dr['Difference'] = df_dr['Decision Tree Regressor Actual'] - df_dr['Decision Tree Regressor Predicted']\n",
    "sns.distplot(df_dr['Difference'])"
   ]
  },
  {
   "cell_type": "markdown",
   "metadata": {},
   "source": [
    "#### How are these plots different? What does this suggest? How did the model statistics (r-squared, RMSE, MAE) differ as you switched from linear regression to the regression tree?\n",
    "\n",
    "Comparing the two models, the RMSE decresed in the Decsion Tree Regressor Model as we switched from Linear Model. However, the R-Squared value remains approximately similar. \n",
    "\n",
    "\n",
    "#### Why might Lobster Land care about a model like this? What could it do with a model that could effectively make such a prediction?\n",
    "\n",
    "Models like these can help in making marketing, financial and operational decsions. These models can help Lobsterland know about their target customers, forecasted sales, profit and overall functioning of the park. Using them, they can use A/B testing to find which strategy works the best for them and can constantly improvise.\n",
    "\n",
    "#### Write a thoughtful paragraph that speculates about the relative performance of linear regression vs. a tree model for this particular dataset. To answer this, you don’t need any particularly sophisticated knowledge of either type of model type -- all you need to is take a close look at what you have seen and found in the steps above. Think about what the linear regression coefficients indicate, and then consider what your tree model shows you, as well as what you learned during the EDA phase. Now wait, one last thing -- stop and think for a moment about the model type whose performance was worse in this assignment -- could you ever think of a scenario where it might be better than the other one?\n",
    "\n",
    "Upon analysing the performance of the models I think that the linear Regression model didn't perform well. Based on the statistics we generated, it can be seen that the Decision Tree Regressor model fitted better, had a lower median absolute error, mean squared error and rmse. This can be due to the variables in this dataset being categorical. Linear Regression doesn't work well with categorical varialbes but decision tree does. According to the coefficients, age had the highest impact followed by gender and marital status. Based on the EDA, I identified the target audience for Lobsterland - single males over the age of 50. I found many more intersting observations like for instance, females have an overall lower Total Spending as compared to men; hourly-wage employees have higher average spending than others etc. \n",
    "\n",
    "Linear Regression didn't work for our dataset since it doesn't work well with categorical variables.Linear Regression is used to predict continuous outputs where there is a linear relationship between the features of the dataset and the output variable. Decision trees work by splitting the dataset, in a tree-like structure, into smaller and smaller subsets and then make predictions based on what subset a new example would fall into."
   ]
  }
 ],
 "metadata": {
  "kernelspec": {
   "display_name": "Python 3",
   "language": "python",
   "name": "python3"
  },
  "language_info": {
   "codemirror_mode": {
    "name": "ipython",
    "version": 3
   },
   "file_extension": ".py",
   "mimetype": "text/x-python",
   "name": "python",
   "nbconvert_exporter": "python",
   "pygments_lexer": "ipython3",
   "version": "3.7.4"
  }
 },
 "nbformat": 4,
 "nbformat_minor": 4
}
